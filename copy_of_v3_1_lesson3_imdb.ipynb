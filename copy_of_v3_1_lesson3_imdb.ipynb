{
  "nbformat": 4,
  "nbformat_minor": 0,
  "metadata": {
    "colab": {
      "name": "copy of v3 -1 - lesson3-imdb.ipynb",
      "version": "0.3.2",
      "provenance": [],
      "collapsed_sections": [],
      "include_colab_link": true
    },
    "kernelspec": {
      "name": "python3",
      "display_name": "Python 3"
    },
    "accelerator": "GPU"
  },
  "cells": [
    {
      "cell_type": "markdown",
      "metadata": {
        "id": "view-in-github",
        "colab_type": "text"
      },
      "source": [
        "<a href=\"https://colab.research.google.com/github/royam0820/DL/blob/master/copy_of_v3_1_lesson3_imdb.ipynb\" target=\"_parent\"><img src=\"https://colab.research.google.com/assets/colab-badge.svg\" alt=\"Open In Colab\"/></a>"
      ]
    },
    {
      "cell_type": "markdown",
      "metadata": {
        "id": "TcnZwijGr60T",
        "colab_type": "text"
      },
      "source": [
        "# IMDB\n",
        "\n",
        "Last example before we look at more foundational theory stuff, NLP (Natural Language Processing). Next week, we're going to be looking at a lot more NLP, but let's now do the same thing but rather than creating a classification of pictures, **let's try and classify documents**. We're going to go through this in a lot more detail next week, but let's do the quick version."
      ]
    },
    {
      "cell_type": "markdown",
      "metadata": {
        "id": "m_JHjn6AxS7T",
        "colab_type": "text"
      },
      "source": [
        "## Lesson  Notes\n",
        "\n",
        "[from hiromis](https://github.com/hiromis/notes/blob/master/Lesson3.md)\n",
        "\n",
        "[from poonav](https://forums.fast.ai/t/deep-learning-lesson-3-notes)\n",
        "\n",
        "[discussion thread](https://forums.fast.ai/t/lesson-3-discussion)\n",
        "\n",
        "[video timeline](https://forums.fast.ai/t/lesson-3-official-resources-and-updates/29732)\n",
        "\n",
        "[imdb video timing - Lesson 3](https://www.youtube.com/watch?v=PW2HKkzdkKY&feature=youtu.be&t=6067)\n",
        "\n",
        "[imdb video timing - lesson 4](https://www.youtube.com/watch?v=C9UdVPE3ynA&feature=youtu.be&t=3m43s)\n",
        "\n",
        "[fasai-doc](https://docs.fast.ai/)\n"
      ]
    },
    {
      "cell_type": "markdown",
      "metadata": {
        "id": "Wjw_WIZBsXaw",
        "colab_type": "text"
      },
      "source": [
        "## Natural Language Processing (NLP)\n",
        "Natural language is about reading, writing, and speaking. NLP goal is for computers to “understand” natural language in order to perform a task. Lot's of digital assistants are doing that: Alexa, Siri, Cortana ...\n",
        "\n",
        "In this lesson we will use **text classification**.\n",
        "\n",
        "Classifying text or document can be used for anything from spam prevention to identifying fake news to finding a diagnosis to medical reports, finding mentions of your product on twitter, classifying legal documents ... etc."
      ]
    },
    {
      "cell_type": "code",
      "metadata": {
        "id": "3qfukaWjr60U",
        "colab_type": "code",
        "colab": {}
      },
      "source": [
        "%reload_ext autoreload\n",
        "%autoreload 2\n",
        "%matplotlib inline"
      ],
      "execution_count": 0,
      "outputs": []
    },
    {
      "cell_type": "code",
      "metadata": {
        "id": "jmDMTDgir60X",
        "colab_type": "code",
        "colab": {}
      },
      "source": [
        "from fastai import *\n",
        "from fastai.text import *"
      ],
      "execution_count": 0,
      "outputs": []
    },
    {
      "cell_type": "markdown",
      "metadata": {
        "id": "gTpSFFhyyskq",
        "colab_type": "text"
      },
      "source": [
        "NOTE: Rather than importing from fastai.vision, I now import, for the first time, from fastai.text. That's where you'll find all the application specific stuff for analyzing text documents.\n",
        "\n",
        "In this case, we're going to use a dataset called IMDB. IMDB has lots of movie reviews. They're generally about a couple of thousand words, and each movie review has been classified as either negative or positive."
      ]
    },
    {
      "cell_type": "markdown",
      "metadata": {
        "id": "VKXbyFFmr60a",
        "colab_type": "text"
      },
      "source": [
        "## Preparing the data"
      ]
    },
    {
      "cell_type": "markdown",
      "metadata": {
        "id": "U-C1NboHr60a",
        "colab_type": "text"
      },
      "source": [
        "First let's download the dataset we are going to study. The [dataset](http://ai.stanford.edu/~amaas/data/sentiment/) has been curated by Andrew Maas et al. and contains a total of 100,000 reviews on IMDB. 25,000 of them are labelled as positive and negative for training, another 25,000 are labelled for testing (in both cases they are highly polarized). The remaning 50,000 is an additional unlabelled data (but we will find a use for it nonetheless).\n",
        "\n",
        "We'll begin with a sample we've prepared for you, so that things run quickly before going over the full dataset."
      ]
    },
    {
      "cell_type": "code",
      "metadata": {
        "id": "RqTikzuj9i2z",
        "colab_type": "code",
        "outputId": "e388ab76-ffde-4a78-bc3c-960659ac9c37",
        "colab": {
          "base_uri": "https://localhost:8080/",
          "height": 34
        }
      },
      "source": [
        "#!rmdir data"
      ],
      "execution_count": 0,
      "outputs": [
        {
          "output_type": "stream",
          "text": [
            "rmdir: failed to remove 'data': Directory not empty\n"
          ],
          "name": "stdout"
        }
      ]
    },
    {
      "cell_type": "code",
      "metadata": {
        "id": "zNxeEV8tr60b",
        "colab_type": "code",
        "outputId": "b983e1d7-45d5-44d2-c999-1a10037a574d",
        "colab": {
          "base_uri": "https://localhost:8080/",
          "height": 51
        }
      },
      "source": [
        "path = untar_data(URLs.IMDB_SAMPLE)\n",
        "!path(ls)"
      ],
      "execution_count": 0,
      "outputs": [
        {
          "output_type": "stream",
          "text": [
            "/bin/bash: -c: line 0: syntax error near unexpected token `ls'\n",
            "/bin/bash: -c: line 0: `path(ls)'\n"
          ],
          "name": "stdout"
        }
      ]
    },
    {
      "cell_type": "markdown",
      "metadata": {
        "id": "l8AgeYTPr60h",
        "colab_type": "text"
      },
      "source": [
        "It only contains one csv file, let's have a look at it.\n",
        "\n",
        "NOTE:  It's just in a CSV file, so we can use pandas to read it and we can take a little look."
      ]
    },
    {
      "cell_type": "code",
      "metadata": {
        "id": "dgeXjcTOr60i",
        "colab_type": "code",
        "outputId": "1184a42e-0731-433e-9e81-7fe303dc01a9",
        "colab": {
          "base_uri": "https://localhost:8080/",
          "height": 195
        }
      },
      "source": [
        "df = pd.read_csv(path/'texts.csv')\n",
        "df.head()"
      ],
      "execution_count": 0,
      "outputs": [
        {
          "output_type": "execute_result",
          "data": {
            "text/html": [
              "<div>\n",
              "<style scoped>\n",
              "    .dataframe tbody tr th:only-of-type {\n",
              "        vertical-align: middle;\n",
              "    }\n",
              "\n",
              "    .dataframe tbody tr th {\n",
              "        vertical-align: top;\n",
              "    }\n",
              "\n",
              "    .dataframe thead th {\n",
              "        text-align: right;\n",
              "    }\n",
              "</style>\n",
              "<table border=\"1\" class=\"dataframe\">\n",
              "  <thead>\n",
              "    <tr style=\"text-align: right;\">\n",
              "      <th></th>\n",
              "      <th>label</th>\n",
              "      <th>text</th>\n",
              "      <th>is_valid</th>\n",
              "    </tr>\n",
              "  </thead>\n",
              "  <tbody>\n",
              "    <tr>\n",
              "      <th>0</th>\n",
              "      <td>negative</td>\n",
              "      <td>Un-bleeping-believable! Meg Ryan doesn't even ...</td>\n",
              "      <td>False</td>\n",
              "    </tr>\n",
              "    <tr>\n",
              "      <th>1</th>\n",
              "      <td>positive</td>\n",
              "      <td>This is a extremely well-made film. The acting...</td>\n",
              "      <td>False</td>\n",
              "    </tr>\n",
              "    <tr>\n",
              "      <th>2</th>\n",
              "      <td>negative</td>\n",
              "      <td>Every once in a long while a movie will come a...</td>\n",
              "      <td>False</td>\n",
              "    </tr>\n",
              "    <tr>\n",
              "      <th>3</th>\n",
              "      <td>positive</td>\n",
              "      <td>Name just says it all. I watched this movie wi...</td>\n",
              "      <td>False</td>\n",
              "    </tr>\n",
              "    <tr>\n",
              "      <th>4</th>\n",
              "      <td>negative</td>\n",
              "      <td>This movie succeeds at being one of the most u...</td>\n",
              "      <td>False</td>\n",
              "    </tr>\n",
              "  </tbody>\n",
              "</table>\n",
              "</div>"
            ],
            "text/plain": [
              "      label                                               text  is_valid\n",
              "0  negative  Un-bleeping-believable! Meg Ryan doesn't even ...     False\n",
              "1  positive  This is a extremely well-made film. The acting...     False\n",
              "2  negative  Every once in a long while a movie will come a...     False\n",
              "3  positive  Name just says it all. I watched this movie wi...     False\n",
              "4  negative  This movie succeeds at being one of the most u...     False"
            ]
          },
          "metadata": {
            "tags": []
          },
          "execution_count": 4
        }
      ]
    },
    {
      "cell_type": "markdown",
      "metadata": {
        "id": "hCzSi-an5Ece",
        "colab_type": "text"
      },
      "source": [
        "NOTE:  column `is_valid` boolean variable to indicate if it is in a validation set or training set."
      ]
    },
    {
      "cell_type": "code",
      "metadata": {
        "id": "jOLd5boAr60l",
        "colab_type": "code",
        "outputId": "e5954e5f-de32-4951-d67a-5680382df4fb",
        "colab": {
          "base_uri": "https://localhost:8080/",
          "height": 54
        }
      },
      "source": [
        "# example of a movie review\n",
        "df['text'][1]"
      ],
      "execution_count": 0,
      "outputs": [
        {
          "output_type": "execute_result",
          "data": {
            "text/plain": [
              "'This is a extremely well-made film. The acting, script and camera-work are all first-rate. The music is good, too, though it is mostly early in the film, when things are still relatively cheery. There are no really superstars in the cast, though several faces will be familiar. The entire cast does an excellent job with the script.<br /><br />But it is hard to watch, because there is no good end to a situation like the one presented. It is now fashionable to blame the British for setting Hindus and Muslims against each other, and then cruelly separating them into two countries. There is some merit in this view, but it\\'s also true that no one forced Hindus and Muslims in the region to mistreat each other as they did around the time of partition. It seems more likely that the British simply saw the tensions between the religions and were clever enough to exploit them to their own ends.<br /><br />The result is that there is much cruelty and inhumanity in the situation and this is very unpleasant to remember and to see on the screen. But it is never painted as a black-and-white case. There is baseness and nobility on both sides, and also the hope for change in the younger generation.<br /><br />There is redemption of a sort, in the end, when Puro has to make a hard choice between a man who has ruined her life, but also truly loved her, and her family which has disowned her, then later come looking for her. But by that point, she has no option that is without great pain for her.<br /><br />This film carries the message that both Muslims and Hindus have their grave faults, and also that both can be dignified and caring people. The reality of partition makes that realisation all the more wrenching, since there can never be real reconciliation across the India/Pakistan border. In that sense, it is similar to \"Mr & Mrs Iyer\".<br /><br />In the end, we were glad to have seen the film, even though the resolution was heartbreaking. If the UK and US could deal with their own histories of racism with this kind of frankness, they would certainly be better off.'"
            ]
          },
          "metadata": {
            "tags": []
          },
          "execution_count": 5
        }
      ]
    },
    {
      "cell_type": "markdown",
      "metadata": {
        "id": "x9YeaacPr60o",
        "colab_type": "text"
      },
      "source": [
        "It contains one line per review, with the label ('negative' or 'positive'), the text and a flag to determine if it should be part of the validation set or the training set. If we ignore this flag, we can create a DataBunch containing this data in one line of code:"
      ]
    },
    {
      "cell_type": "code",
      "metadata": {
        "id": "USy7iPEJr60p",
        "colab_type": "code",
        "colab": {}
      },
      "source": [
        "# a quick way to create a text databuch from the csv file: texts.csv\n",
        "data_lm = TextDataBunch.from_csv(path, 'texts.csv')"
      ],
      "execution_count": 0,
      "outputs": []
    },
    {
      "cell_type": "markdown",
      "metadata": {
        "id": "I4PdVWcKr60r",
        "colab_type": "text"
      },
      "source": [
        "By executing this line a process was launched that took a bit of time. Let's dig a bit into it. Images could be fed (almost) directly into a model because they're just a big array of pixel values that are floats between 0 and 1. A text is composed of words, and we can't apply mathematical functions to them directly. We first have to convert them to numbers. This is done in two differents steps: **tokenization** and **numericalization**. A `TextDataBunch` does all of that behind the scenes for you.\n",
        "\n",
        "Before we delve into the explanations, let's take the time to save the things that were calculated."
      ]
    },
    {
      "cell_type": "code",
      "metadata": {
        "id": "wPwxOgXFr60s",
        "colab_type": "code",
        "colab": {}
      },
      "source": [
        "data_lm.save()"
      ],
      "execution_count": 0,
      "outputs": []
    },
    {
      "cell_type": "markdown",
      "metadata": {
        "id": "RPItG0ZDr60u",
        "colab_type": "text"
      },
      "source": [
        "You can save the data bunch which means that the pre-processing that is done, you don't have to do it again. You can just load it.\n",
        "Next time we launch this notebook, we can skip the cell above that took a bit of time (and that will take a lot more when you get to the full dataset) and load those results like this:"
      ]
    },
    {
      "cell_type": "code",
      "metadata": {
        "id": "Xq_vF2wQr60v",
        "colab_type": "code",
        "colab": {}
      },
      "source": [
        "data = TextDataBunch.load(path)"
      ],
      "execution_count": 0,
      "outputs": []
    },
    {
      "cell_type": "markdown",
      "metadata": {
        "id": "uSpQ5yDNr60x",
        "colab_type": "text"
      },
      "source": [
        "### Tokenization"
      ]
    },
    {
      "cell_type": "markdown",
      "metadata": {
        "id": "ae9vvj2zr60y",
        "colab_type": "text"
      },
      "source": [
        "The first step of processing we make texts go through is to split the raw sentences into words, or more exactly **tokens**.  Each token represents a single linguistic concept.The easiest way to do this would be to split the string on spaces, but we can be smarter:\n",
        "\n",
        "- we need to take care of punctuation\n",
        "- some words are contractions of two different words, like isn't or don't\n",
        "- we may need to clean some parts of our texts, if there's HTML code for instance\n",
        "\n",
        "To see what the tokenizer had done behind the scenes, let's have a look at a few texts in a batch."
      ]
    },
    {
      "cell_type": "code",
      "metadata": {
        "id": "qvyIIFXBr60z",
        "colab_type": "code",
        "outputId": "d3bd13c6-4e74-4565-bd6d-8abfd3bf95cf",
        "colab": {
          "base_uri": "https://localhost:8080/",
          "height": 306
        }
      },
      "source": [
        "data = TextClasDataBunch.load(path)\n",
        "data.show_batch()"
      ],
      "execution_count": 0,
      "outputs": [
        {
          "output_type": "display_data",
          "data": {
            "text/html": [
              "<table>  <col width='90%'>  <col width='10%'>  <tr>\n",
              "    <th>text</th>\n",
              "    <th>target</th>\n",
              "  </tr>\n",
              "  <tr>\n",
              "    <th>xxbos xxmaj raising xxmaj victor xxmaj vargas : a xxmaj review \\n\\n xxmaj you know , xxmaj raising xxmaj victor xxmaj vargas is like sticking your hands into a big , xxunk bowl of xxunk . xxmaj it 's warm and gooey , but you 're not sure if it feels right . xxmaj try as i might , no matter how warm and gooey xxmaj raising xxmaj victor xxmaj</th>\n",
              "    <th>negative</th>\n",
              "  </tr>\n",
              "  <tr>\n",
              "    <th>xxbos xxup the xxup shop xxup around xxup the xxup corner is one of the xxunk and most feel - good romantic comedies ever made . xxmaj there 's just no getting around that , and it 's hard to actually put one 's feeling for this film into words . xxmaj it 's not one of those films that tries too hard , nor does it come up with</th>\n",
              "    <th>positive</th>\n",
              "  </tr>\n",
              "  <tr>\n",
              "    <th>xxbos xxmaj now that xxmaj che(2008 ) has finished its relatively short xxmaj australian cinema run ( extremely limited xxunk screen in xxmaj xxunk , after xxunk ) , i can xxunk join both xxunk of \" xxmaj at xxmaj the xxmaj movies \" in taking xxmaj steven xxmaj soderbergh to task . \\n\\n xxmaj it 's usually satisfying to watch a film director change his style / subject ,</th>\n",
              "    <th>negative</th>\n",
              "  </tr>\n",
              "  <tr>\n",
              "    <th>xxbos xxmaj this film sat on my xxmaj xxunk for weeks before i watched it . i xxunk a self - indulgent xxunk flick about relationships gone bad . i was wrong ; this was an xxunk xxunk into the screwed - up xxunk of xxmaj new xxmaj xxunk . \\n\\n xxmaj the format is the same as xxmaj max xxmaj xxunk ' \" xxmaj la xxmaj xxunk , \"</th>\n",
              "    <th>positive</th>\n",
              "  </tr>\n",
              "  <tr>\n",
              "    <th>xxbos xxmaj many neglect that this is n't just a classic due to the fact that it 's the first xxup 3d game , or even the first xxunk - up . xxmaj it 's also one of the first xxunk games , one of the xxunk definitely the first ) truly claustrophobic games , and just a pretty well - xxunk xxunk experience in general . xxmaj with graphics</th>\n",
              "    <th>positive</th>\n",
              "  </tr>\n",
              "</table>\n"
            ],
            "text/plain": [
              "<IPython.core.display.HTML object>"
            ]
          },
          "metadata": {
            "tags": []
          }
        }
      ]
    },
    {
      "cell_type": "markdown",
      "metadata": {
        "id": "oaL-r3o5r601",
        "colab_type": "text"
      },
      "source": [
        "The texts are truncated at 100 tokens for more readability. We can see that it did more than just split on space and punctuation symbols: \n",
        "- the \"'s\" are grouped together in one token\n",
        "- the contractions are separated like his: \"did\", \"n't\"\n",
        "- content has been cleaned for any HTML symbol and lower cased\n",
        "- there are several special tokens (all those that begin by xx), to replace unkown tokens (see below) or to introduce different text fields (here we only have one)."
      ]
    },
    {
      "cell_type": "markdown",
      "metadata": {
        "id": "iBPWWover603",
        "colab_type": "text"
      },
      "source": [
        "### Numericalization"
      ]
    },
    {
      "cell_type": "markdown",
      "metadata": {
        "id": "qHn_8-NLr604",
        "colab_type": "text"
      },
      "source": [
        "Once we have extracted tokens from our texts, we convert to integers by creating a list of all the words used.\n",
        "NB:  every word in a vocab requires a separate row in our weight metrics.  So to avoid that weight metrics to be really huge, **we only keep the ones that appear at list twice with a maximum vocabulary size of 60,000 (by default) and replace the ones that don't make the cut by the unknown token `UNK`.**\n",
        "\n",
        "The correspondance from ids tokens is stored in the `vocab` attribute of our datasets, in a dictionary called `itos` (**for int to string**)."
      ]
    },
    {
      "cell_type": "code",
      "metadata": {
        "id": "XlWppS5rr605",
        "colab_type": "code",
        "outputId": "bfa04dc8-41f1-4270-93f3-349c5fb65c38",
        "colab": {
          "base_uri": "https://localhost:8080/",
          "height": 185
        }
      },
      "source": [
        "# the first 10 tokens in order of frequency\n",
        "data.vocab.itos[:10]"
      ],
      "execution_count": 0,
      "outputs": [
        {
          "output_type": "execute_result",
          "data": {
            "text/plain": [
              "['xxunk',\n",
              " 'xxpad',\n",
              " 'xxbos',\n",
              " 'xxfld',\n",
              " 'xxmaj',\n",
              " 'xxup',\n",
              " 'xxrep',\n",
              " 'xxwrep',\n",
              " 'the',\n",
              " '.']"
            ]
          },
          "metadata": {
            "tags": []
          },
          "execution_count": 10
        }
      ]
    },
    {
      "cell_type": "markdown",
      "metadata": {
        "id": "1bv2m2Awr607",
        "colab_type": "text"
      },
      "source": [
        "First 10 items of the vocab. And if we look at what a what's in our datasets, we'll see the tokenized text as a representation. `xxunk` = unknown word, `xxfld` = special fields in the structure of a document such as title, summary ...\n",
        "\n",
        "NOTE:  So here is every possible token (the first ten of them) that appear in our all of the movie reviews. We then replace every movie review with a list of numbers."
      ]
    },
    {
      "cell_type": "code",
      "metadata": {
        "id": "iv2vst9Wr609",
        "colab_type": "code",
        "outputId": "d9e33894-a211-48d3-b653-01a0349540b9",
        "colab": {
          "base_uri": "https://localhost:8080/",
          "height": 188
        }
      },
      "source": [
        "data.train_ds[0][0]"
      ],
      "execution_count": 0,
      "outputs": [
        {
          "output_type": "execute_result",
          "data": {
            "text/plain": [
              "Text xxbos and laugh out loud funny in many scenes . \n",
              "\n",
              " xxmaj the movie 's basic plot is well xxunk , a story of xxunk trying to find a way to survive each other in close xxunk . \n",
              "\n",
              " xxmaj this is xxunk xxmaj xxunk and xxmaj xxunk 's best film as co - stars , and the xxunk between the sloppy xxmaj oscar and the xxup xxunk xxmaj felix are classic . \n",
              "\n",
              " xxmaj the scene where xxmaj oscar lines up a double date , leaves the room briefly , and comes back to find xxmaj felix and the two girls all crying is xxunk funny . \n",
              "\n",
              " xxmaj for any fan of intelligent comedies , xxmaj the xxmaj odd xxmaj couple is a \" go out of your way to see it \" film ."
            ]
          },
          "metadata": {
            "tags": []
          },
          "execution_count": 11
        }
      ]
    },
    {
      "cell_type": "markdown",
      "metadata": {
        "id": "0UvylI9-r60_",
        "colab_type": "text"
      },
      "source": [
        "But the underlying data is all numbers"
      ]
    },
    {
      "cell_type": "code",
      "metadata": {
        "id": "H8fcHPjir61C",
        "colab_type": "code",
        "outputId": "b101bc72-465d-4051-c672-c3ba9d86c9da",
        "colab": {
          "base_uri": "https://localhost:8080/",
          "height": 34
        }
      },
      "source": [
        "# we replace the tokens with the ID of where is that token in the vocab:\n",
        "data.train_ds[0][0].data[:10]"
      ],
      "execution_count": 0,
      "outputs": [
        {
          "output_type": "execute_result",
          "data": {
            "text/plain": [
              "array([   2,   11,  605,   58, 1248,  184,   17,  133,  154,    9])"
            ]
          },
          "metadata": {
            "tags": []
          },
          "execution_count": 12
        }
      ]
    },
    {
      "cell_type": "markdown",
      "metadata": {
        "id": "7S-dIVRoz3r2",
        "colab_type": "text"
      },
      "source": [
        "NOTE:  The list of numbers simply says what numbered thing in the vocab is in this place.  For example, 2, represents the vocab \"xxbos\".\n",
        "\n",
        "So through tokenization and numericalization, this is the standard way in NLP of turning a document into a list of numbers.\n",
        "\n",
        "We can do that with the data block API:"
      ]
    },
    {
      "cell_type": "markdown",
      "metadata": {
        "id": "XXkEdsgIr61I",
        "colab_type": "text"
      },
      "source": [
        "### With the data block API"
      ]
    },
    {
      "cell_type": "markdown",
      "metadata": {
        "id": "t3BmTAb6r61J",
        "colab_type": "text"
      },
      "source": [
        "We can use the data block API with NLP and have a lot more flexibility than what the default factory methods offer. In the previous example for instance, the data was randomly split between train and validation instead of reading the third column of the csv.\n",
        "\n",
        "With the data block API though, we have to manually call the tokenize and numericalize steps. This allows more flexibility, and if you're not using the defaults from fastai, the variaous arguments to pass will appear in the step they're revelant, so it'll be more readable.\n",
        "\n",
        "\n",
        "\n",
        "```\n",
        "data_lm = (TextList.from_csv(imdb, 'texts.csv', cols='text')\n",
        "           #Where are the inputs? Column 'text' of this csv\n",
        "                   .random_split_by_pct()\n",
        "           #How to split it? Randomly with the default 20%\n",
        "                   .label_for_lm()\n",
        "           #Label it for a language model\n",
        "                   .databunch())\n",
        "```\n",
        "\n"
      ]
    },
    {
      "cell_type": "code",
      "metadata": {
        "id": "ypnW7vpqr61L",
        "colab_type": "code",
        "colab": {}
      },
      "source": [
        "data = (TextList.from_csv(path, 'texts.csv', cols='text')\n",
        "                .split_from_df(col=2)\n",
        "                .label_from_df(cols=0)\n",
        "                .databunch())"
      ],
      "execution_count": 0,
      "outputs": []
    },
    {
      "cell_type": "markdown",
      "metadata": {
        "id": "qmz7IGu56RTJ",
        "colab_type": "text"
      },
      "source": [
        "NOTE:  we indicate :\n",
        "- the inputs, colum type of 'text' of the csv file\n",
        "- how to do the split for the validation phase (in this case, column #2 in our csv file is our validation flag)\n",
        "- Get the labels (negative or positive sentiment, column 0 in our csv file.)\n",
        "- Convert the file to a databunch."
      ]
    },
    {
      "cell_type": "markdown",
      "metadata": {
        "id": "xSUc45b1r61N",
        "colab_type": "text"
      },
      "source": [
        "## Training\n",
        "\n",
        "**Language model**\n",
        "\n",
        "We are going to create two models, the first model is called the **language model,** we train it, and after that we create a **classifier model**.  This is a quick version, we will go into more details next week\n",
        "\n",
        "NOTE:  A **language model** learns to predict what word comes next in a sentence.  And to predict the next word in a sentence you need to know quite a lot about English (assuming it is in English) and quite a lot about word knowledge.\n",
        "\n",
        "For instance:\n",
        "1.   I like to eat a hot ??? (dog)\n",
        "2.   It is a hot ??? (day) \n",
        "\n"
      ]
    },
    {
      "cell_type": "markdown",
      "metadata": {
        "id": "GHDpplZbr61O",
        "colab_type": "text"
      },
      "source": [
        "Note that language models can use a lot of GPU, so you may need to decrease batchsize here."
      ]
    },
    {
      "cell_type": "code",
      "metadata": {
        "id": "luxAZspzr61P",
        "colab_type": "code",
        "colab": {}
      },
      "source": [
        "bs=48\n",
        "#bs=64 #out of memory error"
      ],
      "execution_count": 0,
      "outputs": []
    },
    {
      "cell_type": "markdown",
      "metadata": {
        "id": "rTXxhAmCr61Q",
        "colab_type": "text"
      },
      "source": [
        "Now let's grab the full dataset for what follows."
      ]
    },
    {
      "cell_type": "code",
      "metadata": {
        "id": "sQHSTHW3r61R",
        "colab_type": "code",
        "outputId": "0bfe3a75-a590-4c09-b602-4b78e24ede10",
        "colab": {
          "base_uri": "https://localhost:8080/",
          "height": 151
        }
      },
      "source": [
        "path = untar_data(URLs.IMDB)\n",
        "path.ls()"
      ],
      "execution_count": 0,
      "outputs": [
        {
          "output_type": "execute_result",
          "data": {
            "text/plain": [
              "[PosixPath('/root/.fastai/data/imdb/models'),\n",
              " PosixPath('/root/.fastai/data/imdb/imdb.vocab'),\n",
              " PosixPath('/root/.fastai/data/imdb/tmp_clas'),\n",
              " PosixPath('/root/.fastai/data/imdb/tmp_lm'),\n",
              " PosixPath('/root/.fastai/data/imdb/README'),\n",
              " PosixPath('/root/.fastai/data/imdb/unsup'),\n",
              " PosixPath('/root/.fastai/data/imdb/test'),\n",
              " PosixPath('/root/.fastai/data/imdb/train')]"
            ]
          },
          "metadata": {
            "tags": []
          },
          "execution_count": 7
        }
      ]
    },
    {
      "cell_type": "markdown",
      "metadata": {
        "id": "p00l8uyG-gTH",
        "colab_type": "text"
      },
      "source": [
        "NOTE:  the IMDB dataset has 25000 movie reviews in the `train` and the `test` folders, and 15000 unsupervised in the `unsup` folder, review that have not been scored at all."
      ]
    },
    {
      "cell_type": "code",
      "metadata": {
        "id": "wL0MPdrfr61U",
        "colab_type": "code",
        "outputId": "8a5bc4ae-85b8-4771-95cd-f4cf677f00a1",
        "colab": {
          "base_uri": "https://localhost:8080/",
          "height": 84
        }
      },
      "source": [
        "(path/'train').ls()"
      ],
      "execution_count": 0,
      "outputs": [
        {
          "output_type": "execute_result",
          "data": {
            "text/plain": [
              "[PosixPath('/root/.fastai/data/imdb/train/pos'),\n",
              " PosixPath('/root/.fastai/data/imdb/train/unsupBow.feat'),\n",
              " PosixPath('/root/.fastai/data/imdb/train/neg'),\n",
              " PosixPath('/root/.fastai/data/imdb/train/labeledBow.feat')]"
            ]
          },
          "metadata": {
            "tags": []
          },
          "execution_count": 16
        }
      ]
    },
    {
      "cell_type": "code",
      "metadata": {
        "id": "0bolhfABBIlk",
        "colab_type": "code",
        "outputId": "8a4efeb8-7422-49a1-91fc-ad3251623489",
        "colab": {
          "base_uri": "https://localhost:8080/",
          "height": 67
        }
      },
      "source": [
        "(path/'test').ls()"
      ],
      "execution_count": 0,
      "outputs": [
        {
          "output_type": "execute_result",
          "data": {
            "text/plain": [
              "[PosixPath('/root/.fastai/data/imdb/test/pos'),\n",
              " PosixPath('/root/.fastai/data/imdb/test/neg'),\n",
              " PosixPath('/root/.fastai/data/imdb/test/labeledBow.feat')]"
            ]
          },
          "metadata": {
            "tags": []
          },
          "execution_count": 17
        }
      ]
    },
    {
      "cell_type": "markdown",
      "metadata": {
        "id": "O1oNesUXr61Y",
        "colab_type": "text"
      },
      "source": [
        "The reviews are in a training and test set following an imagenet structure. The only difference is that there is an `unsup` folder on top of `train` and `test` that contains the unlabelled data.\n",
        "\n",
        "We're not going to train a model that classifies the reviews from scratch. Like in computer vision, we'll use a model pretrained on a bigger dataset (a cleaned subset of wikipeia called [wikitext-103](https://einstein.ai/research/blog/the-wikitext-long-term-dependency-language-modeling-dataset)). That model has been trained to guess what the next word, its input being all the previous words. It has a recurrent structure and a hidden state that is updated each time it sees a new word. This hidden state thus contains information about the sentence up to that point.\n",
        "\n",
        "We are going to use that 'knowledge' of the English language to build our classifier, but first, like for computer vision, we need to fine-tune the pretrained model to our particular dataset. Because the English of the reviews lefts by people on IMDB isn't the same as the English of wikipedia, we'll need to adjust a little bit the parameters of our model. Plus there might be some words extremely common in that dataset that were barely present in wikipedia, and therefore might no be part of the vocabulary the model was trained on."
      ]
    },
    {
      "cell_type": "markdown",
      "metadata": {
        "id": "HnnK2-Tcr61Y",
        "colab_type": "text"
      },
      "source": [
        "This is where the unlabelled data is going to be useful to us, as we can use it to fine-tune our model. Let's create our data object with the data block API (next line takes a few minutes).\n",
        "\n",
        "[data block API](https://docs.fast.ai/data_block.html)"
      ]
    },
    {
      "cell_type": "code",
      "metadata": {
        "id": "jamAShd8r61Z",
        "colab_type": "code",
        "colab": {}
      },
      "source": [
        "# training the IMDB dataset using the untrained data to fine tune our language model\n",
        "data_lm = (TextList.from_folder(path)\n",
        "           #Inputs: all the text files in path\n",
        "            .filter_by_folder(include=['train', 'test', 'unsup']) \n",
        "           #We may have other temp folders that contain text files so we only keep what's in train and test\n",
        "            .random_split_by_pct(0.1)\n",
        "           #We randomly split and keep 10% (10,000 reviews) for validation\n",
        "            .label_for_lm()           \n",
        "           #We want to do a language model so we label accordingly\n",
        "            .databunch(bs=bs))\n",
        "data_lm.save('tmp_lm')"
      ],
      "execution_count": 0,
      "outputs": []
    },
    {
      "cell_type": "markdown",
      "metadata": {
        "id": "cI9ySoTUA4Uj",
        "colab_type": "text"
      },
      "source": [
        "NOTE:  The IMDB dataset is a list of text files﹣not a CSV file. Each document is a separate text file.\n",
        "- We are including the `train`, `test` and `unsup` folders. \n",
        "- We randomly split it by 0.1.\n"
      ]
    },
    {
      "cell_type": "markdown",
      "metadata": {
        "id": "W5f0ScUzr61c",
        "colab_type": "text"
      },
      "source": [
        "We have to use a special kind of `TextDataBunch` for the language model, that ignores the labels (that's why we put 0 everywhere), will shuffle the texts at each epoch before concatenating them all together (only for training, we don't shuffle for the validation set) and will send batches that read that text in order with targets that are the next word in the sentence.\n",
        "\n",
        "The line before being a bit long, we want to load quickly the final ids by using the following cell."
      ]
    },
    {
      "cell_type": "code",
      "metadata": {
        "id": "e00QH0LRr61d",
        "colab_type": "code",
        "colab": {}
      },
      "source": [
        "data_lm = TextLMDataBunch.load(path, 'tmp_lm', bs=bs)"
      ],
      "execution_count": 0,
      "outputs": []
    },
    {
      "cell_type": "code",
      "metadata": {
        "id": "f3htti62r61g",
        "colab_type": "code",
        "outputId": "09882a18-305b-4b6b-d27c-ea9f78e8f1f0",
        "colab": {
          "base_uri": "https://localhost:8080/",
          "height": 390
        }
      },
      "source": [
        "data_lm.show_batch()"
      ],
      "execution_count": 0,
      "outputs": [
        {
          "output_type": "display_data",
          "data": {
            "text/html": [
              "<table>  <col width='5%'>  <col width='95%'>  <tr>\n",
              "    <th>idx</th>\n",
              "    <th>text</th>\n",
              "  </tr>\n",
              "  <tr>\n",
              "    <th>0</th>\n",
              "    <th>brutal , stylish , and ultimately unique film within the genre . \\n\\n xxmaj the entire cast is solid , xxmaj gene xxmaj nelson gives a very good performance as ex con xxmaj steve xxmaj lacey and xxmaj charles xxmaj bronson ( credited as xxmaj charles xxmaj buchinsky ) gives a new meaning to the word \" sleazebag \" with his performance as baddie xxmaj ben xxmaj hastings - but</th>\n",
              "  </tr>\n",
              "  <tr>\n",
              "    <th>1</th>\n",
              "    <th>'s little joke on all of us ? xxmaj this is essentially a film about his own obsessions , or a grand parody on horror , as some suggested . xxmaj von , xxmaj trier , frustrated by the delay of his never realized project , \" xxmaj the xxmaj grand xxmaj mal \" , about two gangster families in divided xxmaj berlin , made a bet with film consultant</th>\n",
              "  </tr>\n",
              "  <tr>\n",
              "    <th>2</th>\n",
              "    <th>gypsy folktale . xxmaj in the film xxmaj nikki , as \" xxmaj sue , \" is cheating on her husband , and during the shoot xxmaj nikki 's \" real xxunk warns her not to do it for real . xxmaj but of course she does : the film relationship parallels \" real life , \" and the stars find they 're confusing themselves with their film characters ,</th>\n",
              "  </tr>\n",
              "  <tr>\n",
              "    <th>3</th>\n",
              "    <th>she has numbers tattooed all over her chest , a bunch of crazies wielding rifles arrive in an old truck . xxmaj in the dispute that follows , one of the paramedics is shot in the shoulder and in the end all four are kidnapped by these people . \\n\\n xxmaj they are taken to some underground facility , where xxunk constantly play some type of speech / mantra .</th>\n",
              "  </tr>\n",
              "  <tr>\n",
              "    <th>4</th>\n",
              "    <th>, while none of this bunch of mercenary hacks would even dream of questioning the xxunk of the xxunk xxunk system we call democracy ! xxmaj so i guess xxmaj ken is right , we need educating ! xxmaj and what better way to do that that to show us how the whole thing works in practice , the smaller wheels , the larger ones , the cogs . xxmaj</th>\n",
              "  </tr>\n",
              "</table>\n"
            ],
            "text/plain": [
              "<IPython.core.display.HTML object>"
            ]
          },
          "metadata": {
            "tags": []
          }
        }
      ]
    },
    {
      "cell_type": "markdown",
      "metadata": {
        "id": "Khc47w0Ir61k",
        "colab_type": "text"
      },
      "source": [
        "We can then put this in a learner object very easily with a model loaded with the pretrained weights. They'll be downloaded the first time you'll execute the following line and stored in `~/.fastai/models/` (or elsewhere if you specified different paths in your config file)."
      ]
    },
    {
      "cell_type": "code",
      "metadata": {
        "id": "A_BFwVu2r61n",
        "colab_type": "code",
        "colab": {}
      },
      "source": [
        "learn = language_model_learner(data_lm, AWD_LSTM, drop_mult=0.3)"
      ],
      "execution_count": 0,
      "outputs": []
    },
    {
      "cell_type": "markdown",
      "metadata": {
        "id": "_VyPVIFwG1sG",
        "colab_type": "text"
      },
      "source": [
        "NOTE: we are using a `language_model_learner` which is a Recurrent Neural Network (RNN), we use a pre-trained model (`WT103_1`) and a drop out feature: `drop_mult = 0.3`.\n",
        "\n",
        "`drop_mult=0.3` sets the amount of dropout. We haven't talked about that yet. We've talked briefly about this idea that there is something called regularization and you can reduce the regularization to avoid underfitting. So for now, just know that by using a number lower than one is because when I first tried to run this, I was under fitting. So if you reduced that number, then it will avoid under fitting."
      ]
    },
    {
      "cell_type": "markdown",
      "metadata": {
        "id": "rX2tmUugz-2D",
        "colab_type": "text"
      },
      "source": [
        "NOTE:  This time, it's not ImageFilesList, it's TextList from a CSV and create a data bunch. At that point, we can start to create a model.\n",
        "\n",
        "As we learn about next week, when we do NLP classification, we actually create two models:  The first model is something called a **language model** which we train in a kind of a usual way.  We say we want to create a language model learner, train it, save it, and we unfreeze, train some more.\n",
        "\n",
        "After we've created a language model, we fine-tune it to create the ** classifier**. We create the data bunch of the classifier, create a learner, train it and we end up with some accuracy.\n",
        "\n"
      ]
    },
    {
      "cell_type": "code",
      "metadata": {
        "id": "MaYc8V1Ar61s",
        "colab_type": "code",
        "outputId": "d249daa9-2f53-4da5-bfae-abd1c55ade03",
        "colab": {
          "base_uri": "https://localhost:8080/",
          "height": 106
        }
      },
      "source": [
        "learn.lr_find()"
      ],
      "execution_count": 0,
      "outputs": [
        {
          "output_type": "display_data",
          "data": {
            "text/html": [
              "\n",
              "    <div>\n",
              "        <style>\n",
              "            /* Turns off some styling */\n",
              "            progress {\n",
              "                /* gets rid of default border in Firefox and Opera. */\n",
              "                border: none;\n",
              "                /* Needs to be in here for Safari polyfill so background images work as expected. */\n",
              "                background-size: auto;\n",
              "            }\n",
              "            .progress-bar-interrupted, .progress-bar-interrupted::-webkit-progress-bar {\n",
              "                background: #F44336;\n",
              "            }\n",
              "        </style>\n",
              "      <progress value='0' class='' max='1', style='width:300px; height:20px; vertical-align: middle;'></progress>\n",
              "      0.00% [0/1 00:00<00:00]\n",
              "    </div>\n",
              "    \n",
              "<table style='width:300px; margin-bottom:10px'>\n",
              "  <tr>\n",
              "    <th>epoch</th>\n",
              "    <th>train_loss</th>\n",
              "    <th>valid_loss</th>\n",
              "    <th>accuracy</th>\n",
              "  </tr>\n",
              "</table>\n",
              "\n",
              "\n",
              "    <div>\n",
              "        <style>\n",
              "            /* Turns off some styling */\n",
              "            progress {\n",
              "                /* gets rid of default border in Firefox and Opera. */\n",
              "                border: none;\n",
              "                /* Needs to be in here for Safari polyfill so background images work as expected. */\n",
              "                background-size: auto;\n",
              "            }\n",
              "            .progress-bar-interrupted, .progress-bar-interrupted::-webkit-progress-bar {\n",
              "                background: #F44336;\n",
              "            }\n",
              "        </style>\n",
              "      <progress value='0' class='progress-bar-interrupted' max='8050', style='width:300px; height:20px; vertical-align: middle;'></progress>\n",
              "      Interrupted\n",
              "    </div>\n",
              "    "
            ],
            "text/plain": [
              "<IPython.core.display.HTML object>"
            ]
          },
          "metadata": {
            "tags": []
          }
        },
        {
          "output_type": "stream",
          "text": [
            "LR Finder is complete, type {learner_name}.recorder.plot() to see the graph.\n"
          ],
          "name": "stdout"
        }
      ]
    },
    {
      "cell_type": "code",
      "metadata": {
        "id": "N1kai1C1r61w",
        "colab_type": "code",
        "outputId": "6cd99c71-7d52-484c-f575-91a578ed84d0",
        "colab": {
          "base_uri": "https://localhost:8080/",
          "height": 279
        }
      },
      "source": [
        "learn.recorder.plot(skip_end=15)"
      ],
      "execution_count": 0,
      "outputs": [
        {
          "output_type": "display_data",
          "data": {
            "image/png": "[encoded data removed]",
            "text/plain": [
              "<Figure size 432x288 with 1 Axes>"
            ]
          },
          "metadata": {
            "tags": []
          }
        }
      ]
    },
    {
      "cell_type": "markdown",
      "metadata": {
        "id": "Lj6NX9mPWDb3",
        "colab_type": "text"
      },
      "source": [
        "NOTE:  For the learning rate finder you can use  `skip_start` and `skip_end`, they  are there if you want to ‘skip’ some point in the plot (at the beginning or at the end respectively).\n",
        "\n",
        "This can be useful when you loss goes very very high at the end, sometimes leading to a final graph that is ‘squished’, making it unreadable, that is why in the example above: `skip_end=15` has been used.  Those values are the number of loss values that you won’t plot using this function."
      ]
    },
    {
      "cell_type": "code",
      "metadata": {
        "id": "TZhPaE1Ur610",
        "colab_type": "code",
        "colab": {}
      },
      "source": [
        "learn.fit_one_cycle(1, 1e-2, moms=(0.8,0.7))"
      ],
      "execution_count": 0,
      "outputs": []
    },
    {
      "cell_type": "markdown",
      "metadata": {
        "id": "VUwQafbXE1Zv",
        "colab_type": "text"
      },
      "source": [
        "NOTE:  What’s happening here is we are just fine-tuning the last layers. Normally after we fine-tune the last layers, the next thing we do is we go unfreeze and train the whole thing. "
      ]
    },
    {
      "cell_type": "code",
      "metadata": {
        "id": "KriJ3-Hvr612",
        "colab_type": "code",
        "colab": {}
      },
      "source": [
        "learn.save('/content/fit_head')"
      ],
      "execution_count": 0,
      "outputs": []
    },
    {
      "cell_type": "code",
      "metadata": {
        "id": "0AkGBFaIr614",
        "colab_type": "code",
        "colab": {}
      },
      "source": [
        "learn.load('/content/fit_head');"
      ],
      "execution_count": 0,
      "outputs": []
    },
    {
      "cell_type": "markdown",
      "metadata": {
        "id": "sArPicWZXWjk",
        "colab_type": "text"
      },
      "source": [
        "## Fine Tuning"
      ]
    },
    {
      "cell_type": "markdown",
      "metadata": {
        "id": "31XXo-j3r615",
        "colab_type": "text"
      },
      "source": [
        "To complete the fine-tuning, we can then unfeeze and launch a new training."
      ]
    },
    {
      "cell_type": "code",
      "metadata": {
        "id": "WW1X10PKr617",
        "colab_type": "code",
        "colab": {}
      },
      "source": [
        "learn.unfreeze()"
      ],
      "execution_count": 0,
      "outputs": []
    },
    {
      "cell_type": "code",
      "metadata": {
        "id": "bW0a24OIr618",
        "colab_type": "code",
        "colab": {}
      },
      "source": [
        "learn.fit_one_cycle(10, 1e-3, moms=(0.8,0.7))"
      ],
      "execution_count": 0,
      "outputs": []
    },
    {
      "cell_type": "markdown",
      "metadata": {
        "id": "AbFsBKAZFlOl",
        "colab_type": "text"
      },
      "source": [
        "NOTE:  As you can see, even on a pretty beefy GPU that takes two or three hours. In fact, I’m still underfitting. So probably tonight, I might train it overnight and try and do a little bit better. I’m guessing I could probably train this a bit longer because you can see the accuracy hasn’t started going down again. So I wouldn’t mind trying to train that a bit longer. But the accuracy, it’s interesting. 0.3 means we’re guessing the next word of the movie review correctly about a third of the time. That sounds like a pretty high number﹣the idea that you can actually guess the next word that often. So it’s a good sign that my language model is doing pretty well. For more limited domain documents (like medical transcripts and legal transcripts), you’ll often find this accuracy gets a lot higher. So sometimes this can be even 50% or more. But 0.3 or more is pretty good."
      ]
    },
    {
      "cell_type": "code",
      "metadata": {
        "id": "WGxnwx83r61-",
        "colab_type": "code",
        "colab": {}
      },
      "source": [
        "learn.save('fine_tuned')"
      ],
      "execution_count": 0,
      "outputs": []
    },
    {
      "cell_type": "markdown",
      "metadata": {
        "id": "ONRdaK3yr61_",
        "colab_type": "text"
      },
      "source": [
        "How good is our model? Well let's try to see what it predicts after a few given words."
      ]
    },
    {
      "cell_type": "code",
      "metadata": {
        "id": "D9CrLEs_r62A",
        "colab_type": "code",
        "colab": {}
      },
      "source": [
        "learn.load('fine_tuned');"
      ],
      "execution_count": 0,
      "outputs": []
    },
    {
      "cell_type": "code",
      "metadata": {
        "id": "FCRHUDLWr62G",
        "colab_type": "code",
        "colab": {}
      },
      "source": [
        "TEXT = \"I liked this movie because\"\n",
        "N_WORDS = 40\n",
        "N_SENTENCES = 2"
      ],
      "execution_count": 0,
      "outputs": []
    },
    {
      "cell_type": "code",
      "metadata": {
        "id": "9PxhrULlr62I",
        "colab_type": "code",
        "outputId": "45b5188e-4fe1-4f4c-cc0d-5899796eadfc",
        "colab": {}
      },
      "source": [
        "print(\"\\n\".join(learn.predict(TEXT, N_WORDS, temperature=0.75) for _ in range(N_SENTENCES)))"
      ],
      "execution_count": 0,
      "outputs": [
        {
          "output_type": "stream",
          "text": [
            "I liked this movie because of the cool scenery and the high level of xxmaj british hunting . xxmaj the only thing this movie has going for it is the horrible acting and no script . xxmaj the movie was a big disappointment . xxmaj\n",
            "I liked this movie because it was one of the few movies that made me laugh so hard i did n't like it . xxmaj it was a hilarious film and it was very entertaining . \n",
            "\n",
            " xxmaj the acting was great , i 'm\n"
          ],
          "name": "stdout"
        }
      ]
    },
    {
      "cell_type": "markdown",
      "metadata": {
        "id": "KetZxjTwH5sd",
        "colab_type": "text"
      },
      "source": [
        "NOTE :  `learn.predict()` passes in the start of a sentence, and it will try to finish off that sentence for you.\n",
        "\n",
        "Now I should mention, this is not designed to be a good text generation system. This is really more designed to check that it seems to be creating something that's vaguely sensible. There's a lot lot of tricks that you can use to generate much higher quality text﹣none of which we're using here. But you can kind of see that it's certainly not random words that it's generating. It sounds vaguely English like even though it doesn't make any sense.\n",
        "\n",
        "At this point, we have a movie review model. So now we're going to save that in order to load it into our classifier (i.e. to be a pre-trained model for the classifier). But I actually don't want to save the whole thing. A lot of the second half of the language model is all about predicting the next word rather than about understanding the sentence so far. So the bit which is specifically about understanding the sentence so far is called the encoder, so I just save that (i.e. the bit that understands the sentence rather than the bit that generates the word)."
      ]
    },
    {
      "cell_type": "markdown",
      "metadata": {
        "id": "9wlXRn_8r62L",
        "colab_type": "text"
      },
      "source": [
        "We have to save the model but also it's encoder, the part that's responsible for creating and updating the hidden state. For the next part, we don't care about the part that tries to guess the next word."
      ]
    },
    {
      "cell_type": "code",
      "metadata": {
        "id": "CjXpDyD2r62M",
        "colab_type": "code",
        "colab": {}
      },
      "source": [
        "learn.save_encoder('fine_tuned_enc')"
      ],
      "execution_count": 0,
      "outputs": []
    },
    {
      "cell_type": "markdown",
      "metadata": {
        "id": "ctNrSGWJKzNd",
        "colab_type": "text"
      },
      "source": [
        "NOTE:  At this point we have a movie review model.\n",
        "Next, we will build a classifier to classify movie review by positive or negative."
      ]
    },
    {
      "cell_type": "markdown",
      "metadata": {
        "id": "W3yaOpZyr62O",
        "colab_type": "text"
      },
      "source": [
        "## Classifier - Sentiment Analysis"
      ]
    },
    {
      "cell_type": "markdown",
      "metadata": {
        "id": "v8vyfsFdr62P",
        "colab_type": "text"
      },
      "source": [
        "Now we’re ready to create our classifier. Step one, as per usual, is to create a data bunch, and we’re going to do basically exactly the same thing"
      ]
    },
    {
      "cell_type": "code",
      "metadata": {
        "id": "8nJf5uKBr62Q",
        "colab_type": "code",
        "colab": {}
      },
      "source": [
        "path = untar_data(URLs.IMDB)"
      ],
      "execution_count": 0,
      "outputs": []
    },
    {
      "cell_type": "code",
      "metadata": {
        "id": "7OxHJVJJr62R",
        "colab_type": "code",
        "colab": {}
      },
      "source": [
        "data_clas = (TextList.from_folder(path, vocab=data_lm.vocab)\n",
        "             #grab all the text files in path\n",
        "             .split_by_folder(valid='test')\n",
        "             #split by train and valid folder (that only keeps 'train' and 'test' so no need to filter)\n",
        "             .label_from_folder(classes=['neg', 'pos'])\n",
        "             #label them all with their folders\n",
        "             .databunch(bs=bs))\n",
        "\n",
        "data_clas.save('tmp_clas')"
      ],
      "execution_count": 0,
      "outputs": []
    },
    {
      "cell_type": "markdown",
      "metadata": {
        "id": "jn3YSvjOIu0H",
        "colab_type": "text"
      },
      "source": [
        "NOTE:  But we want to make sure that it uses exactly the same vocab that are used for the language model. If word number 10 was \"the\" in the language model, we need to make sure that word number 10 is the in the classifier. Because otherwise, the pre-trained model is going to be totally meaningless. So that's why we pass in the vocab from the language model to make sure that this data bunch is going to have exactly the same vocab. That's an important step.\n",
        "\n",
        "`split_by_folder`﹣remember, the last time we had split randomly, but this time we need to make sure that the labels of the test set are not touched. So we split by folder.\n",
        "\n",
        "And then this time we label it not for a language model but we label these classes ([`neg`, `pos`]). Then finally create a data bunch.\n",
        "\n",
        "Attn:  **Sometimes you'll find that you ran out of GPU memory**. I was running this in an 11G machine, so you should make sure this number (bs) is a bit lower if you run out of memory. You may also want to make sure you **restart the notebook** \n",
        "and  start it just from here (**the classifier section**). Batch size 50 is as high as I could get on an 11G card. If you're using a p2 or p3 on Amazon or the K80 on Google, for example, I think you'll get 16G so you might be able to make this bit higher, get it up to 64. So you can find whatever batch size fits on your card.\n",
        "\n",
        "So here is our data bunch:"
      ]
    },
    {
      "cell_type": "code",
      "metadata": {
        "id": "WGZlNrxnr62U",
        "colab_type": "code",
        "colab": {}
      },
      "source": [
        "data_clas = TextClasDataBunch.load(path, 'tmp_clas', bs=bs)"
      ],
      "execution_count": 0,
      "outputs": []
    },
    {
      "cell_type": "code",
      "metadata": {
        "id": "8OexP7J6r62V",
        "colab_type": "code",
        "outputId": "69f8df2b-f2b5-4e71-cd54-fdff8a54da4a",
        "colab": {}
      },
      "source": [
        "data_clas.show_batch()"
      ],
      "execution_count": 0,
      "outputs": [
        {
          "output_type": "display_data",
          "data": {
            "text/html": [
              "<table>  <col width='90%'>  <col width='10%'>  <tr>\n",
              "    <th>text</th>\n",
              "    <th>target</th>\n",
              "  </tr>\n",
              "  <tr>\n",
              "    <th>xxbos xxmaj match 1 : xxmaj tag xxmaj team xxmaj table xxmaj match xxmaj bubba xxmaj ray and xxmaj spike xxmaj dudley vs xxmaj eddie xxmaj guerrero and xxmaj chris xxmaj benoit xxmaj bubba xxmaj ray and xxmaj spike xxmaj dudley started things off with a xxmaj tag xxmaj team xxmaj table xxmaj match against xxmaj eddie xxmaj guerrero and xxmaj chris xxmaj benoit . xxmaj according to the rules</th>\n",
              "    <th>pos</th>\n",
              "  </tr>\n",
              "  <tr>\n",
              "    <th>xxbos xxmaj titanic directed by xxmaj james xxmaj cameron presents a fictional love story on the historical setting of the xxmaj titanic . xxmaj the plot is simple , xxunk , or not for those who love plots that twist and turn and keep you in suspense . xxmaj the end of the movie can be figured out within minutes of the start of the film , but the love</th>\n",
              "    <th>pos</th>\n",
              "  </tr>\n",
              "  <tr>\n",
              "    <th>xxbos xxmaj here are the matches . . . ( adv . = advantage ) \\n\\n xxmaj the xxmaj warriors ( xxmaj ultimate xxmaj warrior , xxmaj texas xxmaj tornado and xxmaj legion of xxmaj doom ) v xxmaj the xxmaj perfect xxmaj team ( xxmaj mr xxmaj perfect , xxmaj ax , xxmaj smash and xxmaj crush of xxmaj demolition ) : xxmaj ax is the first to go</th>\n",
              "    <th>neg</th>\n",
              "  </tr>\n",
              "  <tr>\n",
              "    <th>xxbos i felt duty bound to watch the 1983 xxmaj timothy xxmaj dalton / xxmaj zelah xxmaj clarke adaptation of \" xxmaj jane xxmaj eyre , \" because i 'd just written an article about the 2006 xxup bbc \" xxmaj jane xxmaj eyre \" for xxunk . \\n\\n xxmaj so , i approached watching this the way i 'd approach doing homework . \\n\\n i was irritated at first</th>\n",
              "    <th>pos</th>\n",
              "  </tr>\n",
              "  <tr>\n",
              "    <th>xxbos xxmaj no , this is n't a sequel to the fabulous xxup ova series , but rather a remake of the events that occurred after the death of xxmaj xxunk ( and the disappearance of xxmaj woodchuck ) . xxmaj it is also more accurate to the novels that inspired this wonderful series , which is why characters ( namely xxmaj orson and xxmaj xxunk ) are xxunk ,</th>\n",
              "    <th>pos</th>\n",
              "  </tr>\n",
              "</table>\n"
            ],
            "text/plain": [
              "<IPython.core.display.HTML object>"
            ]
          },
          "metadata": {
            "tags": []
          }
        }
      ]
    },
    {
      "cell_type": "markdown",
      "metadata": {
        "id": "3Ps20RTIr62X",
        "colab_type": "text"
      },
      "source": [
        "We can then create a model to classify those reviews and load the encoder we saved before."
      ]
    },
    {
      "cell_type": "code",
      "metadata": {
        "id": "877TwuDnr62Y",
        "colab_type": "code",
        "colab": {}
      },
      "source": [
        "learn = text_classifier_learner(data_clas, drop_mult=0.5)\n",
        "learn.load_encoder('fine_tuned_enc') # loading our pre-trained model\n",
        "learn.freeze()"
      ],
      "execution_count": 0,
      "outputs": []
    },
    {
      "cell_type": "markdown",
      "metadata": {
        "id": "EHR_HbGFM02e",
        "colab_type": "text"
      },
      "source": [
        "NOTE:  This time, rather than creating a language model learner, we’re creating a text classifier learner. But again, the same thing﹣pass in the data that we want, figure out how much regularization we need.\n",
        "\n",
        "Dropout - drop_mult\n",
        "If you’re overfitting then you can increase this number (drop_mult). If you’re underfitting, you can decrease the number. And most importantly, load in our pre-trained model.\n",
        "\n",
        "Remember, specifically it’s this half of the model called the encoder which is the bit that we want to load in.\n",
        "\n",
        "Then freeze, lr_find, find the learning rate."
      ]
    },
    {
      "cell_type": "code",
      "metadata": {
        "id": "5lTS9gY2r62d",
        "colab_type": "code",
        "colab": {}
      },
      "source": [
        "learn.lr_find()"
      ],
      "execution_count": 0,
      "outputs": []
    },
    {
      "cell_type": "code",
      "metadata": {
        "id": "7no7a_dmr62i",
        "colab_type": "code",
        "colab": {}
      },
      "source": [
        "learn.recorder.plot()"
      ],
      "execution_count": 0,
      "outputs": []
    },
    {
      "cell_type": "markdown",
      "metadata": {
        "id": "cr7gRGmHNMhL",
        "colab_type": "text"
      },
      "source": [
        "Fit for a little bit ..."
      ]
    },
    {
      "cell_type": "code",
      "metadata": {
        "id": "HBGt5OfAr62k",
        "colab_type": "code",
        "outputId": "67607bfd-8bac-4ad3-d406-e2df9aa5355e",
        "colab": {}
      },
      "source": [
        "learn.fit_one_cycle(1, 2e-2, moms=(0.8,0.7))"
      ],
      "execution_count": 0,
      "outputs": [
        {
          "output_type": "display_data",
          "data": {
            "text/html": [
              "Total time: 03:40 <p><table style='width:300px; margin-bottom:10px'>\n",
              "  <tr>\n",
              "    <th>epoch</th>\n",
              "    <th>train_loss</th>\n",
              "    <th>valid_loss</th>\n",
              "    <th>accuracy</th>\n",
              "  </tr>\n",
              "  <tr>\n",
              "    <th>1</th>\n",
              "    <th>0.310078</th>\n",
              "    <th>0.197204</th>\n",
              "    <th>0.926960</th>\n",
              "  </tr>\n",
              "</table>\n"
            ],
            "text/plain": [
              "<IPython.core.display.HTML object>"
            ]
          },
          "metadata": {
            "tags": []
          }
        }
      ]
    },
    {
      "cell_type": "markdown",
      "metadata": {
        "id": "oJRSIuyqNWzq",
        "colab_type": "text"
      },
      "source": [
        "NOTE:  We’re already up nearly to 92% accuracy after less than three minutes of training. So this is a nice thing. In your particular domain (whether it be law, medicine, journalism, government, or whatever), you probably only need to train your domain’s language model once. And that might take overnight to train well. But once you’ve got it, you can now very quickly create all kinds of different classifiers and models with that. In this case, already a pretty good model after three minutes. So when you first start doing this. you might find it a bit annoying that your first models take four hours or more to create that language model. **But the key thing to remember is you only have to do that once for your entire domain of stuff that you’re interested in. And then you can build lots of different classifiers and other models on top of that in a few minutes.**"
      ]
    },
    {
      "cell_type": "code",
      "metadata": {
        "id": "vsv1QBYwr62m",
        "colab_type": "code",
        "colab": {}
      },
      "source": [
        "learn.save('first')"
      ],
      "execution_count": 0,
      "outputs": []
    },
    {
      "cell_type": "code",
      "metadata": {
        "id": "G1MdA-_jr62o",
        "colab_type": "code",
        "colab": {}
      },
      "source": [
        "learn.load('first');"
      ],
      "execution_count": 0,
      "outputs": []
    },
    {
      "cell_type": "code",
      "metadata": {
        "id": "-BHfFBNkr62p",
        "colab_type": "code",
        "outputId": "5a6a5b2c-1e9e-47a7-ff55-90c1df7ba33d",
        "colab": {}
      },
      "source": [
        "learn.freeze_to(-2)\n",
        "learn.fit_one_cycle(1, slice(1e-2/(2.6**4),1e-2), moms=(0.8,0.7))"
      ],
      "execution_count": 0,
      "outputs": [
        {
          "output_type": "display_data",
          "data": {
            "text/html": [
              "Total time: 04:03 <p><table style='width:300px; margin-bottom:10px'>\n",
              "  <tr>\n",
              "    <th>epoch</th>\n",
              "    <th>train_loss</th>\n",
              "    <th>valid_loss</th>\n",
              "    <th>accuracy</th>\n",
              "  </tr>\n",
              "  <tr>\n",
              "    <th>1</th>\n",
              "    <th>0.255913</th>\n",
              "    <th>0.169186</th>\n",
              "    <th>0.937800</th>\n",
              "  </tr>\n",
              "</table>\n"
            ],
            "text/plain": [
              "<IPython.core.display.HTML object>"
            ]
          },
          "metadata": {
            "tags": []
          }
        }
      ]
    },
    {
      "cell_type": "markdown",
      "metadata": {
        "id": "YfbgodxSPmtw",
        "colab_type": "text"
      },
      "source": [
        "NOTE:  `learn.freeze_to(-2)` unfreeze the last 2 layesrs;  don’t unfreeze the whole thing. We’ve just found it really helps with these text classification not to unfreeze the whole thing, but to unfreeze one layer at a time."
      ]
    },
    {
      "cell_type": "code",
      "metadata": {
        "id": "BkjVAxW1r62t",
        "colab_type": "code",
        "colab": {}
      },
      "source": [
        "learn.save('second')"
      ],
      "execution_count": 0,
      "outputs": []
    },
    {
      "cell_type": "code",
      "metadata": {
        "id": "nSi2bGA7r62u",
        "colab_type": "code",
        "colab": {}
      },
      "source": [
        "learn.load('second');"
      ],
      "execution_count": 0,
      "outputs": []
    },
    {
      "cell_type": "code",
      "metadata": {
        "id": "YF2Rhnszr62w",
        "colab_type": "code",
        "outputId": "c3596ae0-0147-4d36-c055-91a3a6c2c61c",
        "colab": {}
      },
      "source": [
        "learn.freeze_to(-3) # unfreese the last 2 layers\n",
        "learn.fit_one_cycle(1, slice(5e-3/(2.6**4),5e-3), moms=(0.8,0.7))"
      ],
      "execution_count": 0,
      "outputs": [
        {
          "output_type": "display_data",
          "data": {
            "text/html": [
              "Total time: 05:42 <p><table style='width:300px; margin-bottom:10px'>\n",
              "  <tr>\n",
              "    <th>epoch</th>\n",
              "    <th>train_loss</th>\n",
              "    <th>valid_loss</th>\n",
              "    <th>accuracy</th>\n",
              "  </tr>\n",
              "  <tr>\n",
              "    <th>1</th>\n",
              "    <th>0.223174</th>\n",
              "    <th>0.165679</th>\n",
              "    <th>0.939600</th>\n",
              "  </tr>\n",
              "</table>\n"
            ],
            "text/plain": [
              "<IPython.core.display.HTML object>"
            ]
          },
          "metadata": {
            "tags": []
          }
        }
      ]
    },
    {
      "cell_type": "code",
      "metadata": {
        "id": "yiOtqVRor62z",
        "colab_type": "code",
        "colab": {}
      },
      "source": [
        "learn.save('third')"
      ],
      "execution_count": 0,
      "outputs": []
    },
    {
      "cell_type": "code",
      "metadata": {
        "id": "7mJRzjEIr620",
        "colab_type": "code",
        "colab": {}
      },
      "source": [
        "learn.load('third');"
      ],
      "execution_count": 0,
      "outputs": []
    },
    {
      "cell_type": "code",
      "metadata": {
        "id": "i2sV7P8zr622",
        "colab_type": "code",
        "outputId": "76393f4d-3a96-420b-d429-231c6a6133b5",
        "colab": {}
      },
      "source": [
        "learn.unfreeze()\n",
        "learn.fit_one_cycle(2, slice(1e-3/(2.6**4),1e-3), moms=(0.8,0.7))"
      ],
      "execution_count": 0,
      "outputs": [
        {
          "output_type": "display_data",
          "data": {
            "text/html": [
              "Total time: 15:17 <p><table style='width:300px; margin-bottom:10px'>\n",
              "  <tr>\n",
              "    <th>epoch</th>\n",
              "    <th>train_loss</th>\n",
              "    <th>valid_loss</th>\n",
              "    <th>accuracy</th>\n",
              "  </tr>\n",
              "  <tr>\n",
              "    <th>1</th>\n",
              "    <th>0.240424</th>\n",
              "    <th>0.155204</th>\n",
              "    <th>0.943160</th>\n",
              "  </tr>\n",
              "  <tr>\n",
              "    <th>2</th>\n",
              "    <th>0.217462</th>\n",
              "    <th>0.153421</th>\n",
              "    <th>0.943960</th>\n",
              "  </tr>\n",
              "</table>\n"
            ],
            "text/plain": [
              "<IPython.core.display.HTML object>"
            ]
          },
          "metadata": {
            "tags": []
          }
        }
      ]
    },
    {
      "cell_type": "markdown",
      "metadata": {
        "id": "EU2_OZ68QnO7",
        "colab_type": "text"
      },
      "source": [
        "NOTE:  You also see I’m passing in this thing `moms=(0.8,0.7)`﹣momentums equals 0.8,0.7. We are going to learn exactly what that means probably next week. We may even automate it. So maybe by the time you watch the video of this, this won’t even be necessary anymore. Basically, we found for training recurrent neural networks (RNNs), it really helps to decrease the momentum a little bit. So that’s what that is.\n",
        "\n",
        "That gets us a 94.4% accuracy after about half an hour or less of training. There’s quite a lot less of training the actual classifier. We can actually get this quite a bit better with a few tricks. I don’t know if we’ll learn all the tricks this part. It might be the next part. But even this very simple standard approach is pretty great.\n",
        "\n",
        "If we compare it to last year’s state of the art on IMDb, this is from The CoVe paper from McCann et al. 1 at Salesforce Research, we were at 94.1%"
      ]
    },
    {
      "cell_type": "code",
      "metadata": {
        "id": "_-9VuVq6r626",
        "colab_type": "code",
        "outputId": "7facb94a-713c-427e-b109-7fef9cb8a5e0",
        "colab": {}
      },
      "source": [
        "learn.predict(\"I really loved that movie, it was awesome!\")"
      ],
      "execution_count": 0,
      "outputs": [
        {
          "output_type": "execute_result",
          "data": {
            "text/plain": [
              "(Category pos, tensor(1), tensor([7.5928e-04, 9.9924e-01]))"
            ]
          },
          "metadata": {
            "tags": []
          },
          "execution_count": 0
        }
      ]
    },
    {
      "cell_type": "code",
      "metadata": {
        "id": "Po_HECz9r628",
        "colab_type": "code",
        "colab": {}
      },
      "source": [
        ""
      ],
      "execution_count": 0,
      "outputs": []
    },
    {
      "cell_type": "markdown",
      "metadata": {
        "id": "y8zR1P2G1Wad",
        "colab_type": "text"
      },
      "source": [
        "NOTE:  That's the really quick version. We're going to go through it in more detail next week, but you can see the basic idea of training and NLP classifier is very similar to creating every other model we've seen so far. The current state of the art for IMDB classification is actually the algorithm that we built and published with colleague named Sebastian Ruder and what I just showed you is pretty much the state of the art algorithm with some minor tweaks. You can get this up to about 95% if you try really hard. So this is very close to the state of the art accuracy that we developed."
      ]
    },
    {
      "cell_type": "markdown",
      "metadata": {
        "id": "Lrl4MOAo_kgK",
        "colab_type": "text"
      },
      "source": [
        "## Final Notes\n",
        "· The layers of the network are linear, connected to each other by Activation functions.\n",
        "\n",
        "- An activation function takes the matrix multiplication and sticks it through some function.  [Sagar Sharma - Activation Functions](https://towardsdatascience.com/activation-functions-neural-networks-1cbd9f8d91d6). In the old days, the activation funtion most used was a sigmoid function, today we nearly always use the ReLu function (rectified linear unit), a sophiticated name to indicate that negative numbers will be equal to 0, the function is in fact: `max(x,0)`.\n",
        "-  If activation functions are linear too, the whole network will be linear.\n",
        "- Introducing non-linear activation function introduces non-linearity in the network.\n",
        "- Universal Approximation Theorem:  means that any shape can be approximated by a combination of linear layers and non linear activation functions.\n",
        "-  Earlier sigmoid was the most used activation function. Currently, ReLU(Rectified Linear Unit) or leaky-ReLU is generally used.\n",
        "\n",
        "[Ref.: Neural networks & Deep Learning](http://neuralnetworksanddeeplearning.com/)"
      ]
    },
    {
      "cell_type": "markdown",
      "metadata": {
        "id": "erSJrnb50uNc",
        "colab_type": "text"
      },
      "source": [
        "# Assignments\n",
        "\n",
        "Try to come up with an interesting idea of a problem you would like to solve which is either:\n",
        "- multi-label classification\n",
        "- image segmentation\n",
        "- image regression\n",
        "\n",
        "By working on this homework, you will find out that the hardest part  to solve the problem is regarding the creation of the databuch.  For that, do check the [data block API](https://docs.fast.ai/data_block.html) and make sure to use the mos appropriate data buch that best fit the data you will be handling."
      ]
    },
    {
      "cell_type": "code",
      "metadata": {
        "id": "z4MvjlnM12vp",
        "colab_type": "code",
        "colab": {}
      },
      "source": [
        ""
      ],
      "execution_count": 0,
      "outputs": []
    }
  ]
}