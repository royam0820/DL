{
  "nbformat": 4,
  "nbformat_minor": 0,
  "metadata": {
    "colab": {
      "name": "keras_tpu_gpu",
      "version": "0.3.2",
      "provenance": [],
      "collapsed_sections": [],
      "include_colab_link": true
    },
    "kernelspec": {
      "name": "python2",
      "display_name": "Python 2"
    },
    "accelerator": "TPU"
  },
  "cells": [
    {
      "cell_type": "markdown",
      "metadata": {
        "id": "view-in-github",
        "colab_type": "text"
      },
      "source": [
        "[View in Colaboratory](https://colab.research.google.com/github/sravya8/DL/blob/master/notebooks/keras_tpu_gpu.ipynb)"
      ]
    },
    {
      "metadata": {
        "colab_type": "text",
        "id": "Ot79jiI7GiHR"
      },
      "cell_type": "markdown",
      "source": [
        "#TPU"
      ]
    },
    {
      "metadata": {
        "colab": {},
        "colab_type": "code",
        "id": "Zo-Yk6LFGfSf"
      },
      "cell_type": "code",
      "source": [
        "import tensorflow as tf\n",
        "import numpy as np\n",
        "import os\n",
        "from matplotlib import pyplot\n",
        "%matplotlib inline\n",
        "\n",
        "def get_mnist_data():\n",
        "  (x_train, y_train), (x_test, y_test) = tf.keras.datasets.fashion_mnist.load_data()\n",
        "\n",
        "  # add empty color dimension\n",
        "  x_train = np.expand_dims(x_train, -1)\n",
        "  x_test = np.expand_dims(x_test, -1)\n",
        "  \n",
        "  return (x_train, y_train), (x_test, y_test)\n",
        "\n",
        "def get_classification_model(in_shape, out_shape):\n",
        "  \n",
        "  model = tf.keras.models.Sequential()\n",
        "  model.add(tf.keras.layers.BatchNormalization(input_shape=in_shape))\n",
        "  model.add(tf.keras.layers.Conv2D(64, (5, 5), padding='same', activation='elu'))\n",
        "  model.add(tf.keras.layers.MaxPooling2D(pool_size=(2, 2), strides=(2,2)))\n",
        "  model.add(tf.keras.layers.Dropout(0.25))\n",
        "\n",
        "  model.add(tf.keras.layers.BatchNormalization(input_shape=in_shape))\n",
        "  model.add(tf.keras.layers.Conv2D(128, (5, 5), padding='same', activation='elu'))\n",
        "  model.add(tf.keras.layers.MaxPooling2D(pool_size=(2, 2)))\n",
        "  model.add(tf.keras.layers.Dropout(0.25))\n",
        "\n",
        "  model.add(tf.keras.layers.BatchNormalization(input_shape=in_shape))\n",
        "  model.add(tf.keras.layers.Conv2D(256, (5, 5), padding='same', activation='elu'))\n",
        "  model.add(tf.keras.layers.MaxPooling2D(pool_size=(2, 2), strides=(2,2)))\n",
        "  model.add(tf.keras.layers.Dropout(0.25))\n",
        "\n",
        "  model.add(tf.keras.layers.Flatten())\n",
        "  model.add(tf.keras.layers.Dense(256))\n",
        "  model.add(tf.keras.layers.Activation('elu'))\n",
        "  model.add(tf.keras.layers.Dropout(0.5))\n",
        "  model.add(tf.keras.layers.Dense(out_shape))\n",
        "  model.add(tf.keras.layers.Activation('softmax'))\n",
        "  return model\n",
        "\n",
        "def plot_predictions(images, predictions, label_names):\n",
        "  n = images.shape[0]\n",
        "  nc = int(np.ceil(n / 4))\n",
        "  f, axes = pyplot.subplots(nc, 4)\n",
        "  for i in range(nc * 4):\n",
        "    y = i // 4\n",
        "    x = i % 4\n",
        "    axes[x, y].axis('off')\n",
        "    \n",
        "    label = label_names[np.argmax(predictions[i])]\n",
        "    confidence = np.max(predictions[i])\n",
        "    if i > n:\n",
        "      continue\n",
        "    axes[x, y].imshow(images[i])\n",
        "    axes[x, y].text(0.5, 0.5, label + '\\n%.3f' % confidence, fontsize=14)\n",
        "\n",
        "  pyplot.gcf().set_size_inches(8, 8)"
      ],
      "execution_count": 0,
      "outputs": []
    },
    {
      "metadata": {
        "id": "0rYKWwCBhax2",
        "colab_type": "code",
        "colab": {}
      },
      "cell_type": "code",
      "source": [
        "(x_train, y_train), (x_test, y_test) = get_mnist_data()\n",
        "label_names = ['t_shirt', 'trouser', 'pullover', 'dress', 'coat', 'sandal', 'shirt', 'sneaker', 'bag', 'ankle_boots']\n",
        "\n",
        "model = get_classification_model(x_train.shape[1:], len(label_names))\n",
        "model.compile(\n",
        "    optimizer=tf.train.AdamOptimizer(learning_rate=1e-3, ),\n",
        "    loss=tf.keras.losses.sparse_categorical_crossentropy,\n",
        "    metrics=['sparse_categorical_accuracy'])"
      ],
      "execution_count": 0,
      "outputs": []
    },
    {
      "metadata": {
        "colab_type": "text",
        "id": "xLeZATVaNAnE"
      },
      "cell_type": "markdown",
      "source": [
        "# Training on the TPU\n",
        "\n",
        "We're ready to train!   We first construct our model on the TPU, and compile it.\n",
        "\n",
        "Here we demonstrate that we can use a generator function and `fit_generator` to train the model.  You can also pass in `x_train` and `y_train` to `tpu_model.fit()` instead."
      ]
    },
    {
      "metadata": {
        "id": "0sR6rqDUTjOg",
        "colab_type": "code",
        "colab": {
          "base_uri": "https://localhost:8080/",
          "height": 341
        },
        "outputId": "66b1d119-bcc8-4fb3-9fca-70e0592cc18c"
      },
      "cell_type": "code",
      "source": [
        "def keras_to_tpu(model):\n",
        "  return tf.contrib.tpu.keras_to_tpu_model(\n",
        "    model,\n",
        "    strategy=tf.contrib.tpu.TPUDistributionStrategy(\n",
        "        tf.contrib.cluster_resolver.TPUClusterResolver(tpu='grpc://' + os.environ['COLAB_TPU_ADDR'])\n",
        "    )\n",
        "  )\n",
        "tpu_model = keras_to_tpu(model)\n",
        "tpu_model.fit(x_train, y_train, 1024,\n",
        "    epochs=10,\n",
        "    validation_data=(x_test, y_test))"
      ],
      "execution_count": 32,
      "outputs": [
        {
          "output_type": "stream",
          "text": [
            "INFO:tensorflow:Querying Tensorflow master (grpc://10.103.216.90:8470) for TPU system metadata.\n",
            "INFO:tensorflow:Found TPU system:\n",
            "INFO:tensorflow:*** Num TPU Cores: 8\n",
            "INFO:tensorflow:*** Num TPU Workers: 1\n",
            "INFO:tensorflow:*** Num TPU Cores Per Worker: 8\n",
            "INFO:tensorflow:*** Available Device: _DeviceAttributes(/job:worker/replica:0/task:0/device:CPU:0, CPU, -1, 12186225580624608398)\n",
            "INFO:tensorflow:*** Available Device: _DeviceAttributes(/job:worker/replica:0/task:0/device:XLA_CPU:0, XLA_CPU, 17179869184, 2088104370437424634)\n",
            "INFO:tensorflow:*** Available Device: _DeviceAttributes(/job:worker/replica:0/task:0/device:XLA_GPU:0, XLA_GPU, 17179869184, 1154827247433280825)\n",
            "INFO:tensorflow:*** Available Device: _DeviceAttributes(/job:worker/replica:0/task:0/device:TPU:0, TPU, 17179869184, 17584917479000574092)\n",
            "INFO:tensorflow:*** Available Device: _DeviceAttributes(/job:worker/replica:0/task:0/device:TPU:1, TPU, 17179869184, 15971857831505999500)\n",
            "INFO:tensorflow:*** Available Device: _DeviceAttributes(/job:worker/replica:0/task:0/device:TPU:2, TPU, 17179869184, 5762888660069242467)\n",
            "INFO:tensorflow:*** Available Device: _DeviceAttributes(/job:worker/replica:0/task:0/device:TPU:3, TPU, 17179869184, 12294128494668114655)\n",
            "INFO:tensorflow:*** Available Device: _DeviceAttributes(/job:worker/replica:0/task:0/device:TPU:4, TPU, 17179869184, 13657199500128338253)\n",
            "INFO:tensorflow:*** Available Device: _DeviceAttributes(/job:worker/replica:0/task:0/device:TPU:5, TPU, 17179869184, 441485173854433090)\n",
            "INFO:tensorflow:*** Available Device: _DeviceAttributes(/job:worker/replica:0/task:0/device:TPU:6, TPU, 17179869184, 9705225648731419903)\n",
            "INFO:tensorflow:*** Available Device: _DeviceAttributes(/job:worker/replica:0/task:0/device:TPU:7, TPU, 17179869184, 17905371607118032391)\n",
            "INFO:tensorflow:*** Available Device: _DeviceAttributes(/job:worker/replica:0/task:0/device:TPU_SYSTEM:0, TPU_SYSTEM, 17179869184, 25688002071799228)\n",
            "WARNING:tensorflow:tpu_model (from tensorflow.contrib.tpu.python.tpu.keras_support) is experimental and may change or be removed at any time, and without warning.\n"
          ],
          "name": "stdout"
        }
      ]
    },
    {
      "metadata": {
        "id": "TGgcHLrofYuA",
        "colab_type": "code",
        "colab": {}
      },
      "cell_type": "code",
      "source": [
        "#Using fit generator\n",
        "\"\"\"\n",
        "def train_gen(data, labels, batch_size):\n",
        "  num = data.shape[0]\n",
        "  while True:\n",
        "    offset = np.random.randint(0, num - batch_size)\n",
        "    yield data[offset:offset+batch_size], labels[offset:offset + batch_size]\n",
        "\n",
        "tpu_model.fit_generator(\n",
        "    train_gen(x_train, y_train, 1024),\n",
        "    epochs=10,\n",
        "    steps_per_epoch=100,\n",
        "    validation_data=(x_test, y_test),\n",
        ")\"\"\"\n"
      ],
      "execution_count": 0,
      "outputs": []
    },
    {
      "metadata": {
        "colab_type": "text",
        "id": "ESL6ltQTMm05"
      },
      "cell_type": "markdown",
      "source": [
        "## Inference on CPU"
      ]
    },
    {
      "metadata": {
        "colab": {
          "base_uri": "https://localhost:8080/",
          "height": 525
        },
        "colab_type": "code",
        "id": "SaYPv_aKId2d",
        "outputId": "5580b0d6-c959-48a0-9d9e-88aee91a2124"
      },
      "cell_type": "code",
      "source": [
        "cpu_model = tpu_model.sync_to_cpu()\n",
        "num = 16\n",
        "predictions = cpu_model.predict(x_test[:num])\n",
        "images = np.squeeze(x_test[:num])\n",
        "\n",
        "plot_predictions(images, predictions, label_names)"
      ],
      "execution_count": 18,
      "outputs": [
        {
          "output_type": "stream",
          "text": [
            "INFO:tensorflow:Copying TPU weights to the CPU\n"
          ],
          "name": "stdout"
        },
        {
          "output_type": "display_data",
          "data": {
            "image/png": "[encoded data removed]",
            "text/plain": [
              "<matplotlib.figure.Figure at 0x7fe9eb828d90>"
            ]
          },
          "metadata": {
            "tags": []
          }
        }
      ]
    },
    {
      "metadata": {
        "id": "0fZ65Re_lhl0",
        "colab_type": "text"
      },
      "cell_type": "markdown",
      "source": [
        "## Multi GPU training using Estimator (from keras model)"
      ]
    },
    {
      "metadata": {
        "id": "Z2AZJcQdgcdX",
        "colab_type": "code",
        "colab": {
          "base_uri": "https://localhost:8080/",
          "height": 847
        },
        "outputId": "301c12f8-66d6-4e96-ebb4-79d426082ee5"
      },
      "cell_type": "code",
      "source": [
        "def model_to_gpu_estimator(model):\n",
        "  \n",
        "  strategy = tf.contrib.distribute.MirroredStrategy()\n",
        "  config = tf.estimator.RunConfig(train_distribute=strategy)\n",
        "  return tf.keras.estimator.model_to_estimator(\n",
        "    keras_model=model,\n",
        "    config=config)\n",
        "\n",
        "def input_fn():\n",
        "  data, labels = x_train,y_train\n",
        "  dataset = tf.data.Dataset.from_tensor_slices((data, labels))\n",
        "  dataset = dataset.repeat(10)\n",
        "  dataset = dataset.batch(32)\n",
        "  return dataset\n",
        "\n",
        "gpu_estimator = model_to_gpu_estimator(model)\n",
        "gpu_estimator.train(input_fn=input_fn, steps=10)"
      ],
      "execution_count": 6,
      "outputs": [
        {
          "output_type": "stream",
          "text": [
            "INFO:tensorflow:Initializing RunConfig with distribution strategies.\n",
            "INFO:tensorflow:Not using Distribute Coordinator.\n",
            "INFO:tensorflow:Using the Keras model provided.\n",
            "WARNING:tensorflow:Using temporary folder as model directory: /tmp/tmpEHWNOw\n",
            "INFO:tensorflow:Using config: {'_save_checkpoints_secs': 600, '_num_ps_replicas': 0, '_keep_checkpoint_max': 5, '_task_type': 'worker', '_global_id_in_cluster': 0, '_is_chief': True, '_cluster_spec': <tensorflow.python.training.server_lib.ClusterSpec object at 0x7f99252fa2d0>, '_model_dir': '/tmp/tmpEHWNOw', '_protocol': None, '_save_checkpoints_steps': None, '_keep_checkpoint_every_n_hours': 10000, '_service': None, '_session_config': allow_soft_placement: true\n",
            "graph_options {\n",
            "  rewrite_options {\n",
            "    meta_optimizer_iterations: ONE\n",
            "  }\n",
            "}\n",
            ", '_tf_random_seed': None, '_save_summary_steps': 100, '_device_fn': None, '_experimental_distribute': None, '_num_worker_replicas': 1, '_task_id': 0, '_log_step_count_steps': 100, '_evaluation_master': '', '_eval_distribute': None, '_train_distribute': <tensorflow.contrib.distribute.python.mirrored_strategy.MirroredStrategy object at 0x7f99252fa190>, '_master': '', '_distribute_coordinator_mode': None}\n",
            "INFO:tensorflow:Device is available but not used by distribute strategy: /device:CPU:0\n",
            "INFO:tensorflow:Configured nccl all-reduce.\n",
            "INFO:tensorflow:Calling model_fn.\n",
            "INFO:tensorflow:batch_all_reduce invoked for batches size = 16 with algorithm = nccl, num_packs = 1, agg_small_grads_max_bytes = 0 and agg_small_grads_max_group = 10\n",
            "INFO:tensorflow:Done calling model_fn.\n",
            "INFO:tensorflow:Warm-starting with WarmStartSettings: WarmStartSettings(ckpt_to_initialize_from='/tmp/tmpEHWNOw/keras/keras_model.ckpt', vars_to_warm_start='.*', var_name_to_vocab_info={}, var_name_to_prev_var_name={})\n",
            "INFO:tensorflow:Warm-starting from: ('/tmp/tmpEHWNOw/keras/keras_model.ckpt',)\n",
            "INFO:tensorflow:Warm-starting variable: conv2d_2/kernel; prev_var_name: Unchanged\n",
            "INFO:tensorflow:Warm-starting variable: dense_1/bias; prev_var_name: Unchanged\n",
            "INFO:tensorflow:Warm-starting variable: batch_normalization_2/beta; prev_var_name: Unchanged\n",
            "INFO:tensorflow:Warm-starting variable: batch_normalization/gamma; prev_var_name: Unchanged\n",
            "INFO:tensorflow:Warm-starting variable: dense/kernel; prev_var_name: Unchanged\n",
            "INFO:tensorflow:Warm-starting variable: batch_normalization_1/gamma; prev_var_name: Unchanged\n",
            "INFO:tensorflow:Warm-starting variable: batch_normalization_2/gamma; prev_var_name: Unchanged\n",
            "INFO:tensorflow:Warm-starting variable: dense/bias; prev_var_name: Unchanged\n",
            "INFO:tensorflow:Warm-starting variable: batch_normalization_1/beta; prev_var_name: Unchanged\n",
            "INFO:tensorflow:Warm-starting variable: batch_normalization/beta; prev_var_name: Unchanged\n",
            "INFO:tensorflow:Warm-starting variable: dense_1/kernel; prev_var_name: Unchanged\n",
            "INFO:tensorflow:Warm-starting variable: conv2d_1/bias; prev_var_name: Unchanged\n",
            "INFO:tensorflow:Warm-starting variable: conv2d/bias; prev_var_name: Unchanged\n",
            "INFO:tensorflow:Warm-starting variable: conv2d_1/kernel; prev_var_name: Unchanged\n",
            "INFO:tensorflow:Warm-starting variable: conv2d_2/bias; prev_var_name: Unchanged\n",
            "INFO:tensorflow:Warm-starting variable: conv2d/kernel; prev_var_name: Unchanged\n",
            "INFO:tensorflow:Create CheckpointSaverHook.\n",
            "INFO:tensorflow:Graph was finalized.\n",
            "INFO:tensorflow:Running local_init_op.\n",
            "INFO:tensorflow:Done running local_init_op.\n",
            "INFO:tensorflow:Saving checkpoints for 0 into /tmp/tmpEHWNOw/model.ckpt.\n",
            "INFO:tensorflow:Initialize system\n",
            "INFO:tensorflow:loss = 3.8622296, step = 0\n",
            "INFO:tensorflow:Saving checkpoints for 10 into /tmp/tmpEHWNOw/model.ckpt.\n",
            "INFO:tensorflow:Finalize system.\n",
            "INFO:tensorflow:Loss for final step: 3.361432.\n"
          ],
          "name": "stdout"
        },
        {
          "output_type": "execute_result",
          "data": {
            "text/plain": [
              "<tensorflow.python.estimator.estimator.Estimator at 0x7f9924f3f910>"
            ]
          },
          "metadata": {
            "tags": []
          },
          "execution_count": 6
        }
      ]
    },
    {
      "metadata": {
        "id": "-4pUikTMhgxE",
        "colab_type": "code",
        "colab": {}
      },
      "cell_type": "code",
      "source": [
        ""
      ],
      "execution_count": 0,
      "outputs": []
    }
  ]
}