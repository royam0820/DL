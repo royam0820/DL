{
  "nbformat": 4,
  "nbformat_minor": 0,
  "metadata": {
    "colab": {
      "name": "Deploying Pytorch and Building a REST Api",
      "version": "0.3.2",
      "provenance": [],
      "collapsed_sections": [],
      "toc_visible": true,
      "include_colab_link": true
    },
    "kernelspec": {
      "name": "python3",
      "display_name": "Python 3"
    }
  },
  "cells": [
    {
      "cell_type": "markdown",
      "metadata": {
        "id": "view-in-github",
        "colab_type": "text"
      },
      "source": [
        "<a href=\"https://colab.research.google.com/github/royam0820/DL/blob/master/Deploying_Pytorch_and_Building_a_REST_Api.ipynb\" target=\"_parent\"><img src=\"https://colab.research.google.com/assets/colab-badge.svg\" alt=\"Open In Colab\"/></a>"
      ]
    },
    {
      "cell_type": "markdown",
      "metadata": {
        "id": "BuUiAZZclWqh",
        "colab_type": "text"
      },
      "source": [
        "# Deploying Pytorch and Building a REST Api"
      ]
    },
    {
      "cell_type": "markdown",
      "metadata": {
        "id": "4OZ0bsd4lkQ6",
        "colab_type": "text"
      },
      "source": [
        "## API Definition\n",
        "We will first define our API endpoints, the request and response types. Our API endpoint will be at /predict which takes HTTP POST requests with a `file` parameter which contains the image. The response will be of JSON response containing the prediction:"
      ]
    },
    {
      "cell_type": "code",
      "metadata": {
        "id": "5aFVqSpvlDqp",
        "colab_type": "code",
        "colab": {
          "base_uri": "https://localhost:8080/",
          "height": 34
        },
        "outputId": "4874ae31-bea5-4b29-b472-d4745259a056"
      },
      "source": [
        "{\"class_id\": \"n02124075\", \"class_name\": \"Egyptian_cat\"}"
      ],
      "execution_count": 1,
      "outputs": [
        {
          "output_type": "execute_result",
          "data": {
            "text/plain": [
              "{'class_id': 'n02124075', 'class_name': 'Egyptian_cat'}"
            ]
          },
          "metadata": {
            "tags": []
          },
          "execution_count": 1
        }
      ]
    },
    {
      "cell_type": "markdown",
      "metadata": {
        "id": "LD3tROjrl6qB",
        "colab_type": "text"
      },
      "source": [
        "## Dependencies\n"
      ]
    },
    {
      "cell_type": "code",
      "metadata": {
        "id": "vwm0Ub5rl8io",
        "colab_type": "code",
        "colab": {
          "base_uri": "https://localhost:8080/",
          "height": 138
        },
        "outputId": "97b0a482-6652-4e97-fe14-384f1b80df46"
      },
      "source": [
        "!pip install Flask==1.0.3 torchvision-0.3.0"
      ],
      "execution_count": 2,
      "outputs": [
        {
          "output_type": "stream",
          "text": [
            "Collecting Flask==1.0.3\n",
            "\u001b[?25l  Downloading https://files.pythonhosted.org/packages/9a/74/670ae9737d14114753b8c8fdf2e8bd212a05d3b361ab15b44937dfd40985/Flask-1.0.3-py2.py3-none-any.whl (92kB)\n",
            "\u001b[K     |████████████████████████████████| 92kB 3.4MB/s \n",
            "\u001b[?25hCollecting torchvision-0.3.0\n",
            "\u001b[31m  ERROR: Could not find a version that satisfies the requirement torchvision-0.3.0 (from versions: none)\u001b[0m\n",
            "\u001b[31mERROR: No matching distribution found for torchvision-0.3.0\u001b[0m\n"
          ],
          "name": "stdout"
        }
      ]
    },
    {
      "cell_type": "markdown",
      "metadata": {
        "id": "NM6zmqOGmCeG",
        "colab_type": "text"
      },
      "source": [
        "## Simple Web Server - Flask"
      ]
    },
    {
      "cell_type": "code",
      "metadata": {
        "id": "sknMa7dqmEX6",
        "colab_type": "code",
        "colab": {
          "base_uri": "https://localhost:8080/",
          "height": 34
        },
        "outputId": "1b785817-fa0f-4e55-85fa-ac77bd46b37b"
      },
      "source": [
        "%%writefile app.py\n",
        "from werkzeug.wrappers import Request, Response\n",
        "from flask import Flask\n",
        "app = Flask(__name__)\n",
        "\n",
        "\n",
        "@app.route('/')\n",
        "def hello():\n",
        "    return 'Hello World!'"
      ],
      "execution_count": 5,
      "outputs": [
        {
          "output_type": "stream",
          "text": [
            "Writing app.py\n"
          ],
          "name": "stdout"
        }
      ]
    },
    {
      "cell_type": "markdown",
      "metadata": {
        "id": "f_vHj03ImQsW",
        "colab_type": "text"
      },
      "source": [
        "NOTE:  Save the above snippet in a file called app.py and you can now run a Flask development server by typing:"
      ]
    },
    {
      "cell_type": "code",
      "metadata": {
        "id": "K-Xmyc2hmUcM",
        "colab_type": "code",
        "colab": {
          "base_uri": "https://localhost:8080/",
          "height": 151
        },
        "outputId": "461ff701-69d5-45a9-cca0-796dc24c5c5d"
      },
      "source": [
        "!FLASK_ENV=development FLASK_APP=app.py flask run"
      ],
      "execution_count": 11,
      "outputs": [
        {
          "output_type": "stream",
          "text": [
            " * Serving Flask app \"app.py\" (lazy loading)\n",
            " * Environment: development\n",
            " * Debug mode: on\n",
            " * Running on http://127.0.0.1:5000/ (Press CTRL+C to quit)\n",
            " * Restarting with stat\n",
            " * Debugger is active!\n",
            " * Debugger PIN: 100-769-840\n",
            "^C\n"
          ],
          "name": "stdout"
        }
      ]
    },
    {
      "cell_type": "code",
      "metadata": {
        "id": "x7ApG9yKmfIg",
        "colab_type": "code",
        "colab": {}
      },
      "source": [
        ""
      ],
      "execution_count": 0,
      "outputs": []
    },
    {
      "cell_type": "markdown",
      "metadata": {
        "id": "9-geQbHLmgum",
        "colab_type": "text"
      },
      "source": [
        "## Inference\n",
        "\n",
        "In the next sections we will focus on writing the inference code. This will involve two parts, one where we prepare the image so that it can be fed to DenseNet and next, we will write the code to get the actual prediction from the model.\n",
        "\n"
      ]
    },
    {
      "cell_type": "markdown",
      "metadata": {
        "id": "nEHtZpdLmrh2",
        "colab_type": "text"
      },
      "source": [
        "### Preparing the image\n",
        "DenseNet model requires the image to be of 3 channel RGB image of size 224 x 224. We will also normalise the image tensor with the required mean and standard deviation values. You can read more about it [here](https://pytorch.org/docs/stable/torchvision/models.html).\n",
        "\n",
        "We will use `transforms` from `torchvision` library and build a transform pipeline, which transforms our images as required. You can read more about transforms [here](https://pytorch.org/docs/stable/torchvision/transforms.html)."
      ]
    },
    {
      "cell_type": "code",
      "metadata": {
        "id": "eExPFkmOmoa8",
        "colab_type": "code",
        "colab": {}
      },
      "source": [
        "import io\n",
        "\n",
        "import torchvision.transforms as transforms\n",
        "from PIL import Image\n",
        "\n",
        "def transform_image(image_bytes):\n",
        "    my_transforms = transforms.Compose([transforms.Resize(255),\n",
        "                                        transforms.CenterCrop(224),\n",
        "                                        transforms.ToTensor(),\n",
        "                                        transforms.Normalize(\n",
        "                                            [0.485, 0.456, 0.406],\n",
        "                                            [0.229, 0.224, 0.225])])\n",
        "    image = Image.open(io.BytesIO(image_bytes))\n",
        "    return my_transforms(image).unsqueeze(0)"
      ],
      "execution_count": 0,
      "outputs": []
    },
    {
      "cell_type": "markdown",
      "metadata": {
        "id": "eveuI2YCnei3",
        "colab_type": "text"
      },
      "source": [
        "NOTE:  The above method takes image data in bytes, applies the series of transforms and returns a tensor. To test the above method, read an image file in bytes mode (first replacing ../_static/img/sample_file.jpeg with the actual path to the file on your computer) and see if you get a tensor back:\n",
        "\n"
      ]
    },
    {
      "cell_type": "code",
      "metadata": {
        "id": "Cn4MeWDOnpCY",
        "colab_type": "code",
        "colab": {}
      },
      "source": [
        "with open(\"../_static/img/sample_file.jpeg\", 'rb') as f:\n",
        "    image_bytes = f.read()\n",
        "    tensor = transform_image(image_bytes=image_bytes)\n",
        "    print(tensor)"
      ],
      "execution_count": 0,
      "outputs": []
    },
    {
      "cell_type": "markdown",
      "metadata": {
        "id": "U9hDEspjnvbs",
        "colab_type": "text"
      },
      "source": [
        "## Prediction\n",
        "Now will use a pretrained DenseNet 121 model to predict the image class. We will use one from torchvision library, load the model and get an inference. While we’ll be using a pretrained model in this example, you can use this same approach for your own models. See more about loading your models in this [tutorial](https://pytorch.org/tutorials/beginner/saving_loading_models.html).\n",
        "\n"
      ]
    },
    {
      "cell_type": "code",
      "metadata": {
        "id": "xRppvB09oFBM",
        "colab_type": "code",
        "colab": {}
      },
      "source": [
        "from torchvision import models\n",
        "\n",
        "# Make sure to pass `pretrained` as `True` to use the pretrained weights:\n",
        "model = models.densenet121(pretrained=True)\n",
        "# Since we are using our model only for inference, switch to `eval` mode:\n",
        "model.eval()\n",
        "\n",
        "\n",
        "def get_prediction(image_bytes):\n",
        "    tensor = transform_image(image_bytes=image_bytes)\n",
        "    outputs = model.forward(tensor)\n",
        "    _, y_hat = outputs.max(1)\n",
        "    return y_hat"
      ],
      "execution_count": 0,
      "outputs": []
    },
    {
      "cell_type": "markdown",
      "metadata": {
        "id": "OKa82_WEoTEo",
        "colab_type": "text"
      },
      "source": [
        "NOTE:  The tensor `y_hat` will contain the index of the predicted class id. However, we need a human readable class name. For that we need a class id to name mapping. Download [this file](https://s3.amazonaws.com/deep-learning-models/image-models/imagenet_class_index.json) as `imagenet_class_index.json` and remember where you saved it (or, if you are following the exact steps in this tutorial, save it in tutorials/_static). This file contains the mapping of ImageNet class id to ImageNet class name. We will load this JSON file and get the class name of the predicted index."
      ]
    },
    {
      "cell_type": "code",
      "metadata": {
        "id": "2Js3xNh8ok_7",
        "colab_type": "code",
        "colab": {}
      },
      "source": [
        "import json\n",
        "\n",
        "imagenet_class_index = json.load(open('../_static/imagenet_class_index.json'))\n",
        "\n",
        "def get_prediction(image_bytes):\n",
        "    tensor = transform_image(image_bytes=image_bytes)\n",
        "    outputs = model.forward(tensor)\n",
        "    _, y_hat = outputs.max(1)\n",
        "    predicted_idx = str(y_hat.item())\n",
        "    return imagenet_class_index[predicted_idx]"
      ],
      "execution_count": 0,
      "outputs": []
    },
    {
      "cell_type": "markdown",
      "metadata": {
        "id": "Uov4Ljsso0Gq",
        "colab_type": "text"
      },
      "source": [
        "NOTE:  Before using `imagenet_class_index` dictionary, first we will convert tensor value to a string value, since the keys in the `imagenet_class_index` dictionary are strings. We will test our above method:"
      ]
    },
    {
      "cell_type": "code",
      "metadata": {
        "id": "oTPVuQ7Oo8qP",
        "colab_type": "code",
        "colab": {}
      },
      "source": [
        "with open(\"../_static/img/sample_file.jpeg\", 'rb') as f:\n",
        "    image_bytes = f.read()\n",
        "    print(get_prediction(image_bytes=image_bytes))\n"
      ],
      "execution_count": 0,
      "outputs": []
    },
    {
      "cell_type": "markdown",
      "metadata": {
        "id": "MK_O9kyypH-E",
        "colab_type": "text"
      },
      "source": [
        "NOTE:  You should get a response like this:\n",
        "\n",
        "```\n",
        "['n02124075', 'Egyptian_cat']\n",
        "\n",
        "```\n",
        "\n",
        "The first item in array is ImageNet class id and second item is the human readable name.\n"
      ]
    },
    {
      "cell_type": "markdown",
      "metadata": {
        "id": "u4b5Dx1VpZlU",
        "colab_type": "text"
      },
      "source": [
        "*NB:  Did you notice that model variable is not part of `get_prediction` method? Or why is model a global variable? Loading a model can be an expensive operation in terms of memory and compute. If we loaded the model in the `get_prediction` method, then it would get unnecessarily loaded every time the method is called. Since, we are building a web server, there could be thousands of requests per second, we should not waste time redundantly loading the model for every inference. So, we keep the model loaded in memory just once. In production systems, it’s necessary to be efficient about your use of compute to be able to serve requests at scale, so you should generally load your model before serving requests.*"
      ]
    },
    {
      "cell_type": "markdown",
      "metadata": {
        "id": "nPDozZJ9pxWw",
        "colab_type": "text"
      },
      "source": [
        "## Integrating the Model to our API Server\n",
        "In this final part we will add our model to our Flask API server. Since our API server is supposed to take an image file, we will update our predict method to read files from the requests:\n",
        "\n"
      ]
    },
    {
      "cell_type": "code",
      "metadata": {
        "id": "fq6C3Mx7pOeN",
        "colab_type": "code",
        "colab": {}
      },
      "source": [
        "from flask import request\n",
        "\n",
        "@app.route('/predict', methods=['POST'])\n",
        "def predict():\n",
        "    if request.method == 'POST':\n",
        "        # we will get the file from the request\n",
        "        file = request.files['file']\n",
        "        # convert that to bytes\n",
        "        img_bytes = file.read()\n",
        "        class_id, class_name = get_prediction(image_bytes=img_bytes)\n",
        "        return jsonify({'class_id': class_id, 'class_name': class_name})"
      ],
      "execution_count": 0,
      "outputs": []
    },
    {
      "cell_type": "markdown",
      "metadata": {
        "id": "yjGx9dveqEdT",
        "colab_type": "text"
      },
      "source": [
        "NOTE:  The `app.py` file is now complete. Following is the full version; replace the paths with the paths where you saved your files and it should run:"
      ]
    },
    {
      "cell_type": "code",
      "metadata": {
        "id": "so3Eo9s0qJTG",
        "colab_type": "code",
        "colab": {}
      },
      "source": [
        "import io\n",
        "import json\n",
        "\n",
        "from torchvision import models\n",
        "import torchvision.transforms as transforms\n",
        "from PIL import Image\n",
        "from flask import Flask, jsonify, request\n",
        "\n",
        "app = Flask(__name__)\n",
        "imagenet_class_index = json.load(open('<PATH/TO/.json/FILE>/imagenet_class_index.json'))\n",
        "model = models.densenet121(pretrained=True)\n",
        "model.eval()\n",
        "\n",
        "\n",
        "def transform_image(image_bytes):\n",
        "    my_transforms = transforms.Compose([transforms.Resize(255),\n",
        "                                        transforms.CenterCrop(224),\n",
        "                                        transforms.ToTensor(),\n",
        "                                        transforms.Normalize(\n",
        "                                            [0.485, 0.456, 0.406],\n",
        "                                            [0.229, 0.224, 0.225])])\n",
        "    image = Image.open(io.BytesIO(image_bytes))\n",
        "    return my_transforms(image).unsqueeze(0)\n",
        "\n",
        "\n",
        "def get_prediction(image_bytes):\n",
        "    tensor = transform_image(image_bytes=image_bytes)\n",
        "    outputs = model.forward(tensor)\n",
        "    _, y_hat = outputs.max(1)\n",
        "    predicted_idx = str(y_hat.item())\n",
        "    return imagenet_class_index[predicted_idx]\n",
        "\n",
        "\n",
        "@app.route('/predict', methods=['POST'])\n",
        "def predict():\n",
        "    if request.method == 'POST':\n",
        "        file = request.files['file']\n",
        "        img_bytes = file.read()\n",
        "        class_id, class_name = get_prediction(image_bytes=img_bytes)\n",
        "        return jsonify({'class_id': class_id, 'class_name': class_name})\n",
        "\n",
        "\n",
        "if __name__ == '__main__':\n",
        "    app.run()\n"
      ],
      "execution_count": 0,
      "outputs": []
    },
    {
      "cell_type": "markdown",
      "metadata": {
        "id": "gSILi9zOqQo1",
        "colab_type": "text"
      },
      "source": [
        "NOTE:  Let’s test our web server! Run:"
      ]
    },
    {
      "cell_type": "code",
      "metadata": {
        "id": "HRaOny1oqWy0",
        "colab_type": "code",
        "colab": {}
      },
      "source": [
        "!FLASK_ENV=development FLASK_APP=app.py flask run"
      ],
      "execution_count": 0,
      "outputs": []
    },
    {
      "cell_type": "markdown",
      "metadata": {
        "id": "TRGr8URzqdtE",
        "colab_type": "text"
      },
      "source": [
        "NOTE:  We can use the requests library to send a POST request to our app:"
      ]
    },
    {
      "cell_type": "code",
      "metadata": {
        "id": "E_HqoZQ0qjml",
        "colab_type": "code",
        "colab": {}
      },
      "source": [
        "import requests\n",
        "\n",
        "resp = requests.post(\"http://localhost:5000/predict\",\n",
        "                     files={\"file\": open('<PATH/TO/.jpg/FILE>/cat.jpg','rb')})\n"
      ],
      "execution_count": 0,
      "outputs": []
    },
    {
      "cell_type": "markdown",
      "metadata": {
        "id": "0da03SIPqm_I",
        "colab_type": "text"
      },
      "source": [
        "NOTE: Printing `resp.json()`` will now show the following:"
      ]
    },
    {
      "cell_type": "code",
      "metadata": {
        "id": "yHCvyMI6qteF",
        "colab_type": "code",
        "colab": {}
      },
      "source": [
        "{\"class_id\": \"n02124075\", \"class_name\": \"Egyptian_cat\"}"
      ],
      "execution_count": 0,
      "outputs": []
    },
    {
      "cell_type": "markdown",
      "metadata": {
        "id": "0nmg8JVcqudV",
        "colab_type": "text"
      },
      "source": [
        "## Next Steps\n",
        "\n",
        "The server we wrote is quite trivial and and may not do everything you need for your production application. So, here are some things you can do to make it better:\n",
        "\n",
        "- The endpoint `/predict` assumes that always there will be a image file in the request. This may not hold true for all requests. Our user may send image with a different parameter or send no images at all.\n",
        "\n",
        "- The user may send non-image type files too. Since we are not handling errors, this will break our server. Adding an explicit error handing path that will throw an exception would allow us to better handle the bad inputs\n",
        "\n",
        "- Even though the model can recognize a large number of classes of images, it may not be able to recognize all images. Enhance the implementation to handle cases when the model does not recognize anything in the image.\n",
        "\n",
        "- We run the Flask server in the development mode, which is not suitable for deploying in production. You can check out [this tutorial](https://flask.palletsprojects.com/en/1.1.x/tutorial/deploy/) for deploying a Flask server in production.\n",
        "\n",
        "- You can also add a UI by creating a page with a form which takes the image and displays the prediction. Check out the [demo](https://pytorch-imagenet.herokuapp.com/) of a similar project and its [source code](https://github.com/avinassh/pytorch-flask-api-heroku).\n",
        "\n",
        "Total running time of the script: ( 0 minutes 1.179 seconds)\n",
        "\n"
      ]
    },
    {
      "cell_type": "code",
      "metadata": {
        "id": "DH4kn3OBrDqd",
        "colab_type": "code",
        "colab": {}
      },
      "source": [
        ""
      ],
      "execution_count": 0,
      "outputs": []
    },
    {
      "cell_type": "markdown",
      "metadata": {
        "id": "YM50E9RMyDVL",
        "colab_type": "text"
      },
      "source": [
        "# Running Flask inside a Jupyter Notebook"
      ]
    },
    {
      "cell_type": "markdown",
      "metadata": {
        "id": "u6vJ1Z2Wyfcb",
        "colab_type": "text"
      },
      "source": [
        "## The server code"
      ]
    },
    {
      "cell_type": "code",
      "metadata": {
        "id": "HW4w6B5yxZvK",
        "colab_type": "code",
        "colab": {
          "base_uri": "https://localhost:8080/",
          "height": 154
        },
        "outputId": "2371d2cc-de1c-4709-91e5-2516a780aaf9"
      },
      "source": [
        "import socket\n",
        "print(socket.gethostbyname(socket.getfqdn(socket.gethostname())))\n",
        "\n",
        "from flask import Flask\n",
        "app = Flask(__name__)\n",
        "\n",
        "@app.route(\"/\")\n",
        "def hello():\n",
        "    return \"Hello World!\"\n",
        "\n",
        "import threading\n",
        "threading.Thread(target=app.run, kwargs={'host':'0.0.0.0','port':80}).start() \n"
      ],
      "execution_count": 9,
      "outputs": [
        {
          "output_type": "stream",
          "text": [
            "172.28.0.2\n",
            " * Serving Flask app \"__main__\" (lazy loading)\n",
            " * Environment: production\n",
            "   WARNING: This is a development server. Do not use it in a production deployment.\n",
            "   Use a production WSGI server instead.\n",
            " * Debug mode: off\n"
          ],
          "name": "stdout"
        },
        {
          "output_type": "stream",
          "text": [
            " * Running on http://0.0.0.0:80/ (Press CTRL+C to quit)\n"
          ],
          "name": "stderr"
        }
      ]
    },
    {
      "cell_type": "markdown",
      "metadata": {
        "id": "cJiGbdJEyisK",
        "colab_type": "text"
      },
      "source": [
        "## The client code"
      ]
    },
    {
      "cell_type": "code",
      "metadata": {
        "id": "TBPEg3TgyHmk",
        "colab_type": "code",
        "colab": {}
      },
      "source": [
        "import requests\n",
        "r = requests.get(\"http://172.28.0.2/\")\n",
        "print(r.status_code)\n",
        "print(r.encoding)\n",
        "print(r.apparent_encoding)\n",
        "print(r.text)"
      ],
      "execution_count": 0,
      "outputs": []
    }
  ]
}